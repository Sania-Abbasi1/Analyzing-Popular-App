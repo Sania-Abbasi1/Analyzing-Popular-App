{
 "cells": [
  {
   "cell_type": "markdown",
   "id": "04bc499d",
   "metadata": {},
   "source": [
    "# Analyzing Popular App Categories on Google Play Project\n",
    "In this project, our Goal is to figure out what types of apps tend to be popular on the google play store.We work for a company that makes free apps and earn money through ads. By understanding which app Categories are in high demand. We can help our developers create apps that attrack more users and generate more revenue. We will Analyze date from Google play store to identify patterns and preferences among users. This way,we can make smarter decisions about the kind of apps we develops.\n"
   ]
  },
  {
   "cell_type": "code",
   "execution_count": 1,
   "id": "f2464dbc",
   "metadata": {},
   "outputs": [],
   "source": [
    "import pandas as pd\n",
    "import matplotlib.pyplot as plt"
   ]
  },
  {
   "cell_type": "code",
   "execution_count": 2,
   "id": "13222ab0",
   "metadata": {},
   "outputs": [],
   "source": [
    "#read the database in pandas dataframe object\n",
    "android_df=pd.read_csv(\"googleplaystore.csv\")"
   ]
  },
  {
   "cell_type": "code",
   "execution_count": 3,
   "id": "6ad83ff6",
   "metadata": {},
   "outputs": [
    {
     "data": {
      "text/html": [
       "<div>\n",
       "<style scoped>\n",
       "    .dataframe tbody tr th:only-of-type {\n",
       "        vertical-align: middle;\n",
       "    }\n",
       "\n",
       "    .dataframe tbody tr th {\n",
       "        vertical-align: top;\n",
       "    }\n",
       "\n",
       "    .dataframe thead th {\n",
       "        text-align: right;\n",
       "    }\n",
       "</style>\n",
       "<table border=\"1\" class=\"dataframe\">\n",
       "  <thead>\n",
       "    <tr style=\"text-align: right;\">\n",
       "      <th></th>\n",
       "      <th>App</th>\n",
       "      <th>Category</th>\n",
       "      <th>Rating</th>\n",
       "      <th>Reviews</th>\n",
       "      <th>Size</th>\n",
       "      <th>Installs</th>\n",
       "      <th>Type</th>\n",
       "      <th>Price</th>\n",
       "      <th>Content Rating</th>\n",
       "      <th>Genres</th>\n",
       "      <th>Last Updated</th>\n",
       "      <th>Current Ver</th>\n",
       "      <th>Android Ver</th>\n",
       "    </tr>\n",
       "  </thead>\n",
       "  <tbody>\n",
       "    <tr>\n",
       "      <th>0</th>\n",
       "      <td>Photo Editor &amp; Candy Camera &amp; Grid &amp; ScrapBook</td>\n",
       "      <td>ART_AND_DESIGN</td>\n",
       "      <td>4.1</td>\n",
       "      <td>159</td>\n",
       "      <td>19M</td>\n",
       "      <td>10,000+</td>\n",
       "      <td>Free</td>\n",
       "      <td>0</td>\n",
       "      <td>Everyone</td>\n",
       "      <td>Art &amp; Design</td>\n",
       "      <td>January 7, 2018</td>\n",
       "      <td>1.0.0</td>\n",
       "      <td>4.0.3 and up</td>\n",
       "    </tr>\n",
       "    <tr>\n",
       "      <th>1</th>\n",
       "      <td>Coloring book moana</td>\n",
       "      <td>ART_AND_DESIGN</td>\n",
       "      <td>3.9</td>\n",
       "      <td>967</td>\n",
       "      <td>14M</td>\n",
       "      <td>500,000+</td>\n",
       "      <td>Free</td>\n",
       "      <td>0</td>\n",
       "      <td>Everyone</td>\n",
       "      <td>Art &amp; Design;Pretend Play</td>\n",
       "      <td>January 15, 2018</td>\n",
       "      <td>2.0.0</td>\n",
       "      <td>4.0.3 and up</td>\n",
       "    </tr>\n",
       "    <tr>\n",
       "      <th>2</th>\n",
       "      <td>U Launcher Lite – FREE Live Cool Themes, Hide ...</td>\n",
       "      <td>ART_AND_DESIGN</td>\n",
       "      <td>4.7</td>\n",
       "      <td>87510</td>\n",
       "      <td>8.7M</td>\n",
       "      <td>5,000,000+</td>\n",
       "      <td>Free</td>\n",
       "      <td>0</td>\n",
       "      <td>Everyone</td>\n",
       "      <td>Art &amp; Design</td>\n",
       "      <td>August 1, 2018</td>\n",
       "      <td>1.2.4</td>\n",
       "      <td>4.0.3 and up</td>\n",
       "    </tr>\n",
       "    <tr>\n",
       "      <th>3</th>\n",
       "      <td>Sketch - Draw &amp; Paint</td>\n",
       "      <td>ART_AND_DESIGN</td>\n",
       "      <td>4.5</td>\n",
       "      <td>215644</td>\n",
       "      <td>25M</td>\n",
       "      <td>50,000,000+</td>\n",
       "      <td>Free</td>\n",
       "      <td>0</td>\n",
       "      <td>Teen</td>\n",
       "      <td>Art &amp; Design</td>\n",
       "      <td>June 8, 2018</td>\n",
       "      <td>Varies with device</td>\n",
       "      <td>4.2 and up</td>\n",
       "    </tr>\n",
       "    <tr>\n",
       "      <th>4</th>\n",
       "      <td>Pixel Draw - Number Art Coloring Book</td>\n",
       "      <td>ART_AND_DESIGN</td>\n",
       "      <td>4.3</td>\n",
       "      <td>967</td>\n",
       "      <td>2.8M</td>\n",
       "      <td>100,000+</td>\n",
       "      <td>Free</td>\n",
       "      <td>0</td>\n",
       "      <td>Everyone</td>\n",
       "      <td>Art &amp; Design;Creativity</td>\n",
       "      <td>June 20, 2018</td>\n",
       "      <td>1.1</td>\n",
       "      <td>4.4 and up</td>\n",
       "    </tr>\n",
       "  </tbody>\n",
       "</table>\n",
       "</div>"
      ],
      "text/plain": [
       "                                                 App        Category  Rating  \\\n",
       "0     Photo Editor & Candy Camera & Grid & ScrapBook  ART_AND_DESIGN     4.1   \n",
       "1                                Coloring book moana  ART_AND_DESIGN     3.9   \n",
       "2  U Launcher Lite – FREE Live Cool Themes, Hide ...  ART_AND_DESIGN     4.7   \n",
       "3                              Sketch - Draw & Paint  ART_AND_DESIGN     4.5   \n",
       "4              Pixel Draw - Number Art Coloring Book  ART_AND_DESIGN     4.3   \n",
       "\n",
       "  Reviews  Size     Installs  Type Price Content Rating  \\\n",
       "0     159   19M      10,000+  Free     0       Everyone   \n",
       "1     967   14M     500,000+  Free     0       Everyone   \n",
       "2   87510  8.7M   5,000,000+  Free     0       Everyone   \n",
       "3  215644   25M  50,000,000+  Free     0           Teen   \n",
       "4     967  2.8M     100,000+  Free     0       Everyone   \n",
       "\n",
       "                      Genres      Last Updated         Current Ver  \\\n",
       "0               Art & Design   January 7, 2018               1.0.0   \n",
       "1  Art & Design;Pretend Play  January 15, 2018               2.0.0   \n",
       "2               Art & Design    August 1, 2018               1.2.4   \n",
       "3               Art & Design      June 8, 2018  Varies with device   \n",
       "4    Art & Design;Creativity     June 20, 2018                 1.1   \n",
       "\n",
       "    Android Ver  \n",
       "0  4.0.3 and up  \n",
       "1  4.0.3 and up  \n",
       "2  4.0.3 and up  \n",
       "3    4.2 and up  \n",
       "4    4.4 and up  "
      ]
     },
     "execution_count": 3,
     "metadata": {},
     "output_type": "execute_result"
    }
   ],
   "source": [
    "#Explore the data using pandas method\n",
    "android_df.head()"
   ]
  },
  {
   "cell_type": "code",
   "execution_count": 4,
   "id": "d85b779e",
   "metadata": {},
   "outputs": [
    {
     "data": {
      "text/plain": [
       "FAMILY                 1972\n",
       "GAME                   1144\n",
       "TOOLS                   843\n",
       "MEDICAL                 463\n",
       "BUSINESS                460\n",
       "PRODUCTIVITY            424\n",
       "PERSONALIZATION         392\n",
       "COMMUNICATION           387\n",
       "SPORTS                  384\n",
       "LIFESTYLE               382\n",
       "FINANCE                 366\n",
       "HEALTH_AND_FITNESS      341\n",
       "PHOTOGRAPHY             335\n",
       "SOCIAL                  295\n",
       "NEWS_AND_MAGAZINES      283\n",
       "SHOPPING                260\n",
       "TRAVEL_AND_LOCAL        258\n",
       "DATING                  234\n",
       "BOOKS_AND_REFERENCE     231\n",
       "VIDEO_PLAYERS           175\n",
       "EDUCATION               156\n",
       "ENTERTAINMENT           149\n",
       "MAPS_AND_NAVIGATION     137\n",
       "FOOD_AND_DRINK          127\n",
       "HOUSE_AND_HOME           88\n",
       "LIBRARIES_AND_DEMO       85\n",
       "AUTO_AND_VEHICLES        85\n",
       "WEATHER                  82\n",
       "ART_AND_DESIGN           65\n",
       "EVENTS                   64\n",
       "PARENTING                60\n",
       "COMICS                   60\n",
       "BEAUTY                   53\n",
       "1.9                       1\n",
       "Name: Category, dtype: int64"
      ]
     },
     "execution_count": 4,
     "metadata": {},
     "output_type": "execute_result"
    }
   ],
   "source": [
    "android_df[\"Category\"].value_counts()\n"
   ]
  },
  {
   "cell_type": "code",
   "execution_count": 5,
   "id": "344d7257",
   "metadata": {},
   "outputs": [
    {
     "data": {
      "text/html": [
       "<div>\n",
       "<style scoped>\n",
       "    .dataframe tbody tr th:only-of-type {\n",
       "        vertical-align: middle;\n",
       "    }\n",
       "\n",
       "    .dataframe tbody tr th {\n",
       "        vertical-align: top;\n",
       "    }\n",
       "\n",
       "    .dataframe thead th {\n",
       "        text-align: right;\n",
       "    }\n",
       "</style>\n",
       "<table border=\"1\" class=\"dataframe\">\n",
       "  <thead>\n",
       "    <tr style=\"text-align: right;\">\n",
       "      <th></th>\n",
       "      <th>App</th>\n",
       "      <th>Category</th>\n",
       "      <th>Rating</th>\n",
       "      <th>Reviews</th>\n",
       "      <th>Size</th>\n",
       "      <th>Installs</th>\n",
       "      <th>Type</th>\n",
       "      <th>Price</th>\n",
       "      <th>Content Rating</th>\n",
       "      <th>Genres</th>\n",
       "      <th>Last Updated</th>\n",
       "      <th>Current Ver</th>\n",
       "      <th>Android Ver</th>\n",
       "    </tr>\n",
       "  </thead>\n",
       "  <tbody>\n",
       "    <tr>\n",
       "      <th>10472</th>\n",
       "      <td>Life Made WI-Fi Touchscreen Photo Frame</td>\n",
       "      <td>1.9</td>\n",
       "      <td>19.0</td>\n",
       "      <td>3.0M</td>\n",
       "      <td>1,000+</td>\n",
       "      <td>Free</td>\n",
       "      <td>0</td>\n",
       "      <td>Everyone</td>\n",
       "      <td>NaN</td>\n",
       "      <td>February 11, 2018</td>\n",
       "      <td>1.0.19</td>\n",
       "      <td>4.0 and up</td>\n",
       "      <td>NaN</td>\n",
       "    </tr>\n",
       "  </tbody>\n",
       "</table>\n",
       "</div>"
      ],
      "text/plain": [
       "                                           App Category  Rating Reviews  \\\n",
       "10472  Life Made WI-Fi Touchscreen Photo Frame      1.9    19.0    3.0M   \n",
       "\n",
       "         Size Installs Type     Price Content Rating             Genres  \\\n",
       "10472  1,000+     Free    0  Everyone            NaN  February 11, 2018   \n",
       "\n",
       "      Last Updated Current Ver Android Ver  \n",
       "10472       1.0.19  4.0 and up         NaN  "
      ]
     },
     "execution_count": 5,
     "metadata": {},
     "output_type": "execute_result"
    }
   ],
   "source": [
    "android_df[android_df[\"Category\"]==\"1.9\"]"
   ]
  },
  {
   "cell_type": "code",
   "execution_count": 6,
   "id": "1f7ffeb3",
   "metadata": {},
   "outputs": [
    {
     "data": {
      "text/plain": [
       "array([['Life Made WI-Fi Touchscreen Photo Frame', '1.9', 19.0, '3.0M',\n",
       "        '1,000+', 'Free', '0', 'Everyone', nan, 'February 11, 2018',\n",
       "        '1.0.19', '4.0 and up', nan]], dtype=object)"
      ]
     },
     "execution_count": 6,
     "metadata": {},
     "output_type": "execute_result"
    }
   ],
   "source": [
    "android_df[android_df[\"Category\"]==\"1.9\"].values"
   ]
  },
  {
   "cell_type": "code",
   "execution_count": 7,
   "id": "f8447375",
   "metadata": {},
   "outputs": [
    {
     "data": {
      "text/plain": [
       "['Life Made WI-Fi Touchscreen Photo Frame',\n",
       " 'LIFESTYLE',\n",
       " '1.9',\n",
       " 19.0,\n",
       " '3.0M',\n",
       " '1,000+',\n",
       " 'Free',\n",
       " '0',\n",
       " 'Everyone',\n",
       " 'LIFESTYLE',\n",
       " 'February 11, 2018',\n",
       " '1.0.19',\n",
       " '4.0 and up']"
      ]
     },
     "execution_count": 7,
     "metadata": {},
     "output_type": "execute_result"
    }
   ],
   "source": [
    "clean_1st=['Life Made WI-Fi Touchscreen Photo Frame','LIFESTYLE','1.9', 19.0, '3.0M',\n",
    "        '1,000+', 'Free', '0', 'Everyone','LIFESTYLE' , 'February 11, 2018',\n",
    "        '1.0.19', '4.0 and up']\n",
    "clean_1st"
   ]
  },
  {
   "cell_type": "code",
   "execution_count": 8,
   "id": "16ae0e94",
   "metadata": {},
   "outputs": [],
   "source": [
    "android_df[android_df[\"Category\"]==\"1.9\"]=clean_1st"
   ]
  },
  {
   "cell_type": "code",
   "execution_count": 9,
   "id": "ea195489",
   "metadata": {},
   "outputs": [
    {
     "data": {
      "text/plain": [
       "FAMILY                 1972\n",
       "GAME                   1144\n",
       "TOOLS                   843\n",
       "MEDICAL                 463\n",
       "BUSINESS                460\n",
       "PRODUCTIVITY            424\n",
       "PERSONALIZATION         392\n",
       "COMMUNICATION           387\n",
       "SPORTS                  384\n",
       "LIFESTYLE               383\n",
       "FINANCE                 366\n",
       "HEALTH_AND_FITNESS      341\n",
       "PHOTOGRAPHY             335\n",
       "SOCIAL                  295\n",
       "NEWS_AND_MAGAZINES      283\n",
       "SHOPPING                260\n",
       "TRAVEL_AND_LOCAL        258\n",
       "DATING                  234\n",
       "BOOKS_AND_REFERENCE     231\n",
       "VIDEO_PLAYERS           175\n",
       "EDUCATION               156\n",
       "ENTERTAINMENT           149\n",
       "MAPS_AND_NAVIGATION     137\n",
       "FOOD_AND_DRINK          127\n",
       "HOUSE_AND_HOME           88\n",
       "AUTO_AND_VEHICLES        85\n",
       "LIBRARIES_AND_DEMO       85\n",
       "WEATHER                  82\n",
       "ART_AND_DESIGN           65\n",
       "EVENTS                   64\n",
       "PARENTING                60\n",
       "COMICS                   60\n",
       "BEAUTY                   53\n",
       "Name: Category, dtype: int64"
      ]
     },
     "execution_count": 9,
     "metadata": {},
     "output_type": "execute_result"
    }
   ],
   "source": [
    "android_category=android_df[\"Category\"].value_counts()\n",
    "android_category"
   ]
  },
  {
   "cell_type": "code",
   "execution_count": 10,
   "id": "14b9ebc7",
   "metadata": {},
   "outputs": [
    {
     "data": {
      "text/plain": [
       "ROBLOX                                                9\n",
       "CBS Sports App - Scores, News, Stats & Watch Live     8\n",
       "ESPN                                                  7\n",
       "Duolingo: Learn Languages Free                        7\n",
       "Candy Crush Saga                                      7\n",
       "                                                     ..\n",
       "Meet U - Get Friends for Snapchat, Kik & Instagram    1\n",
       "U-Report                                              1\n",
       "U of I Community Credit Union                         1\n",
       "Waiting For U Launcher Theme                          1\n",
       "iHoroscope - 2018 Daily Horoscope & Astrology         1\n",
       "Name: App, Length: 9660, dtype: int64"
      ]
     },
     "execution_count": 10,
     "metadata": {},
     "output_type": "execute_result"
    }
   ],
   "source": [
    "app_count=android_df[\"App\"].value_counts()\n",
    "app_count"
   ]
  },
  {
   "cell_type": "code",
   "execution_count": 11,
   "id": "a20a6c30",
   "metadata": {},
   "outputs": [
    {
     "data": {
      "text/plain": [
       "ROBLOX                                               9\n",
       "CBS Sports App - Scores, News, Stats & Watch Live    8\n",
       "ESPN                                                 7\n",
       "Duolingo: Learn Languages Free                       7\n",
       "Candy Crush Saga                                     7\n",
       "                                                    ..\n",
       "Transenger – Ts Dating and Chat for Free             2\n",
       "Random Video Chat                                    2\n",
       "Clover Dating App                                    2\n",
       "Docs To Go™ Free Office Suite                        2\n",
       "English Dictionary - Offline                         2\n",
       "Name: App, Length: 798, dtype: int64"
      ]
     },
     "execution_count": 11,
     "metadata": {},
     "output_type": "execute_result"
    }
   ],
   "source": [
    "app_count[app_count >1]"
   ]
  },
  {
   "cell_type": "code",
   "execution_count": 12,
   "id": "4b5e5148",
   "metadata": {},
   "outputs": [
    {
     "data": {
      "text/plain": [
       "True"
      ]
     },
     "execution_count": 12,
     "metadata": {},
     "output_type": "execute_result"
    }
   ],
   "source": [
    "\"Instagram\" in app_count[app_count >1].index"
   ]
  },
  {
   "cell_type": "code",
   "execution_count": 13,
   "id": "3e88d3d1",
   "metadata": {},
   "outputs": [
    {
     "data": {
      "text/html": [
       "<div>\n",
       "<style scoped>\n",
       "    .dataframe tbody tr th:only-of-type {\n",
       "        vertical-align: middle;\n",
       "    }\n",
       "\n",
       "    .dataframe tbody tr th {\n",
       "        vertical-align: top;\n",
       "    }\n",
       "\n",
       "    .dataframe thead th {\n",
       "        text-align: right;\n",
       "    }\n",
       "</style>\n",
       "<table border=\"1\" class=\"dataframe\">\n",
       "  <thead>\n",
       "    <tr style=\"text-align: right;\">\n",
       "      <th></th>\n",
       "      <th>App</th>\n",
       "      <th>Category</th>\n",
       "      <th>Rating</th>\n",
       "      <th>Reviews</th>\n",
       "      <th>Size</th>\n",
       "      <th>Installs</th>\n",
       "      <th>Type</th>\n",
       "      <th>Price</th>\n",
       "      <th>Content Rating</th>\n",
       "      <th>Genres</th>\n",
       "      <th>Last Updated</th>\n",
       "      <th>Current Ver</th>\n",
       "      <th>Android Ver</th>\n",
       "    </tr>\n",
       "  </thead>\n",
       "  <tbody>\n",
       "    <tr>\n",
       "      <th>2545</th>\n",
       "      <td>Instagram</td>\n",
       "      <td>SOCIAL</td>\n",
       "      <td>4.5</td>\n",
       "      <td>66577313</td>\n",
       "      <td>Varies with device</td>\n",
       "      <td>1,000,000,000+</td>\n",
       "      <td>Free</td>\n",
       "      <td>0</td>\n",
       "      <td>Teen</td>\n",
       "      <td>Social</td>\n",
       "      <td>July 31, 2018</td>\n",
       "      <td>Varies with device</td>\n",
       "      <td>Varies with device</td>\n",
       "    </tr>\n",
       "    <tr>\n",
       "      <th>2604</th>\n",
       "      <td>Instagram</td>\n",
       "      <td>SOCIAL</td>\n",
       "      <td>4.5</td>\n",
       "      <td>66577446</td>\n",
       "      <td>Varies with device</td>\n",
       "      <td>1,000,000,000+</td>\n",
       "      <td>Free</td>\n",
       "      <td>0</td>\n",
       "      <td>Teen</td>\n",
       "      <td>Social</td>\n",
       "      <td>July 31, 2018</td>\n",
       "      <td>Varies with device</td>\n",
       "      <td>Varies with device</td>\n",
       "    </tr>\n",
       "    <tr>\n",
       "      <th>2611</th>\n",
       "      <td>Instagram</td>\n",
       "      <td>SOCIAL</td>\n",
       "      <td>4.5</td>\n",
       "      <td>66577313</td>\n",
       "      <td>Varies with device</td>\n",
       "      <td>1,000,000,000+</td>\n",
       "      <td>Free</td>\n",
       "      <td>0</td>\n",
       "      <td>Teen</td>\n",
       "      <td>Social</td>\n",
       "      <td>July 31, 2018</td>\n",
       "      <td>Varies with device</td>\n",
       "      <td>Varies with device</td>\n",
       "    </tr>\n",
       "    <tr>\n",
       "      <th>3909</th>\n",
       "      <td>Instagram</td>\n",
       "      <td>SOCIAL</td>\n",
       "      <td>4.5</td>\n",
       "      <td>66509917</td>\n",
       "      <td>Varies with device</td>\n",
       "      <td>1,000,000,000+</td>\n",
       "      <td>Free</td>\n",
       "      <td>0</td>\n",
       "      <td>Teen</td>\n",
       "      <td>Social</td>\n",
       "      <td>July 31, 2018</td>\n",
       "      <td>Varies with device</td>\n",
       "      <td>Varies with device</td>\n",
       "    </tr>\n",
       "  </tbody>\n",
       "</table>\n",
       "</div>"
      ],
      "text/plain": [
       "            App Category Rating   Reviews                Size        Installs  \\\n",
       "2545  Instagram   SOCIAL    4.5  66577313  Varies with device  1,000,000,000+   \n",
       "2604  Instagram   SOCIAL    4.5  66577446  Varies with device  1,000,000,000+   \n",
       "2611  Instagram   SOCIAL    4.5  66577313  Varies with device  1,000,000,000+   \n",
       "3909  Instagram   SOCIAL    4.5  66509917  Varies with device  1,000,000,000+   \n",
       "\n",
       "      Type Price Content Rating  Genres   Last Updated         Current Ver  \\\n",
       "2545  Free     0           Teen  Social  July 31, 2018  Varies with device   \n",
       "2604  Free     0           Teen  Social  July 31, 2018  Varies with device   \n",
       "2611  Free     0           Teen  Social  July 31, 2018  Varies with device   \n",
       "3909  Free     0           Teen  Social  July 31, 2018  Varies with device   \n",
       "\n",
       "             Android Ver  \n",
       "2545  Varies with device  \n",
       "2604  Varies with device  \n",
       "2611  Varies with device  \n",
       "3909  Varies with device  "
      ]
     },
     "execution_count": 13,
     "metadata": {},
     "output_type": "execute_result"
    }
   ],
   "source": [
    "android_df[android_df[\"App\"]== \"Instagram\"]"
   ]
  },
  {
   "cell_type": "code",
   "execution_count": 14,
   "id": "781c6158",
   "metadata": {},
   "outputs": [
    {
     "data": {
      "text/html": [
       "<div>\n",
       "<style scoped>\n",
       "    .dataframe tbody tr th:only-of-type {\n",
       "        vertical-align: middle;\n",
       "    }\n",
       "\n",
       "    .dataframe tbody tr th {\n",
       "        vertical-align: top;\n",
       "    }\n",
       "\n",
       "    .dataframe thead th {\n",
       "        text-align: right;\n",
       "    }\n",
       "</style>\n",
       "<table border=\"1\" class=\"dataframe\">\n",
       "  <thead>\n",
       "    <tr style=\"text-align: right;\">\n",
       "      <th></th>\n",
       "      <th>App</th>\n",
       "      <th>Category</th>\n",
       "      <th>Rating</th>\n",
       "      <th>Reviews</th>\n",
       "      <th>Size</th>\n",
       "      <th>Installs</th>\n",
       "      <th>Type</th>\n",
       "      <th>Price</th>\n",
       "      <th>Content Rating</th>\n",
       "      <th>Genres</th>\n",
       "      <th>Last Updated</th>\n",
       "      <th>Current Ver</th>\n",
       "      <th>Android Ver</th>\n",
       "    </tr>\n",
       "  </thead>\n",
       "  <tbody>\n",
       "    <tr>\n",
       "      <th>2545</th>\n",
       "      <td>Instagram</td>\n",
       "      <td>SOCIAL</td>\n",
       "      <td>4.5</td>\n",
       "      <td>66577313</td>\n",
       "      <td>Varies with device</td>\n",
       "      <td>1,000,000,000+</td>\n",
       "      <td>Free</td>\n",
       "      <td>0</td>\n",
       "      <td>Teen</td>\n",
       "      <td>Social</td>\n",
       "      <td>July 31, 2018</td>\n",
       "      <td>Varies with device</td>\n",
       "      <td>Varies with device</td>\n",
       "    </tr>\n",
       "    <tr>\n",
       "      <th>2604</th>\n",
       "      <td>Instagram</td>\n",
       "      <td>SOCIAL</td>\n",
       "      <td>4.5</td>\n",
       "      <td>66577446</td>\n",
       "      <td>Varies with device</td>\n",
       "      <td>1,000,000,000+</td>\n",
       "      <td>Free</td>\n",
       "      <td>0</td>\n",
       "      <td>Teen</td>\n",
       "      <td>Social</td>\n",
       "      <td>July 31, 2018</td>\n",
       "      <td>Varies with device</td>\n",
       "      <td>Varies with device</td>\n",
       "    </tr>\n",
       "    <tr>\n",
       "      <th>2611</th>\n",
       "      <td>Instagram</td>\n",
       "      <td>SOCIAL</td>\n",
       "      <td>4.5</td>\n",
       "      <td>66577313</td>\n",
       "      <td>Varies with device</td>\n",
       "      <td>1,000,000,000+</td>\n",
       "      <td>Free</td>\n",
       "      <td>0</td>\n",
       "      <td>Teen</td>\n",
       "      <td>Social</td>\n",
       "      <td>July 31, 2018</td>\n",
       "      <td>Varies with device</td>\n",
       "      <td>Varies with device</td>\n",
       "    </tr>\n",
       "    <tr>\n",
       "      <th>3909</th>\n",
       "      <td>Instagram</td>\n",
       "      <td>SOCIAL</td>\n",
       "      <td>4.5</td>\n",
       "      <td>66509917</td>\n",
       "      <td>Varies with device</td>\n",
       "      <td>1,000,000,000+</td>\n",
       "      <td>Free</td>\n",
       "      <td>0</td>\n",
       "      <td>Teen</td>\n",
       "      <td>Social</td>\n",
       "      <td>July 31, 2018</td>\n",
       "      <td>Varies with device</td>\n",
       "      <td>Varies with device</td>\n",
       "    </tr>\n",
       "  </tbody>\n",
       "</table>\n",
       "</div>"
      ],
      "text/plain": [
       "            App Category Rating   Reviews                Size        Installs  \\\n",
       "2545  Instagram   SOCIAL    4.5  66577313  Varies with device  1,000,000,000+   \n",
       "2604  Instagram   SOCIAL    4.5  66577446  Varies with device  1,000,000,000+   \n",
       "2611  Instagram   SOCIAL    4.5  66577313  Varies with device  1,000,000,000+   \n",
       "3909  Instagram   SOCIAL    4.5  66509917  Varies with device  1,000,000,000+   \n",
       "\n",
       "      Type Price Content Rating  Genres   Last Updated         Current Ver  \\\n",
       "2545  Free     0           Teen  Social  July 31, 2018  Varies with device   \n",
       "2604  Free     0           Teen  Social  July 31, 2018  Varies with device   \n",
       "2611  Free     0           Teen  Social  July 31, 2018  Varies with device   \n",
       "3909  Free     0           Teen  Social  July 31, 2018  Varies with device   \n",
       "\n",
       "             Android Ver  \n",
       "2545  Varies with device  \n",
       "2604  Varies with device  \n",
       "2611  Varies with device  \n",
       "3909  Varies with device  "
      ]
     },
     "execution_count": 14,
     "metadata": {},
     "output_type": "execute_result"
    }
   ],
   "source": [
    "# check for duplicate rows based on \"App\" column marking all duplicates as True\n",
    "duplicate_apps_df=android_df[android_df.duplicated(subset=[\"App\"],keep=False)]\n",
    "#keep=false means show all duplicates \n",
    "duplicate_apps_df[duplicate_apps_df[\"App\"]==\"Instagram\"]"
   ]
  },
  {
   "cell_type": "code",
   "execution_count": 15,
   "id": "99a31028",
   "metadata": {},
   "outputs": [
    {
     "data": {
      "text/plain": [
       "798"
      ]
     },
     "execution_count": 15,
     "metadata": {},
     "output_type": "execute_result"
    }
   ],
   "source": [
    "#number of duplicate app\n",
    "num_duplicate_apps=duplicate_apps_df[\"App\"].nunique()\n",
    "num_duplicate_apps"
   ]
  },
  {
   "cell_type": "code",
   "execution_count": 16,
   "id": "7fe10943",
   "metadata": {},
   "outputs": [
    {
     "data": {
      "text/plain": [
       "(1979, 13)"
      ]
     },
     "execution_count": 16,
     "metadata": {},
     "output_type": "execute_result"
    }
   ],
   "source": [
    "duplicate_apps_df.shape"
   ]
  },
  {
   "cell_type": "code",
   "execution_count": 17,
   "id": "91d5b184",
   "metadata": {},
   "outputs": [
    {
     "data": {
      "text/plain": [
       "(10841, 13)"
      ]
     },
     "execution_count": 17,
     "metadata": {},
     "output_type": "execute_result"
    }
   ],
   "source": [
    "android_df.shape"
   ]
  },
  {
   "cell_type": "code",
   "execution_count": 18,
   "id": "0f3f4076",
   "metadata": {},
   "outputs": [
    {
     "data": {
      "text/plain": [
       "9660"
      ]
     },
     "execution_count": 18,
     "metadata": {},
     "output_type": "execute_result"
    }
   ],
   "source": [
    "10841-1181"
   ]
  },
  {
   "cell_type": "markdown",
   "id": "a490b1bb",
   "metadata": {},
   "source": [
    "# Part two"
   ]
  },
  {
   "cell_type": "code",
   "execution_count": 19,
   "id": "dee1ec75",
   "metadata": {},
   "outputs": [
    {
     "data": {
      "text/plain": [
       "'66577446'"
      ]
     },
     "execution_count": 19,
     "metadata": {},
     "output_type": "execute_result"
    }
   ],
   "source": [
    "#Group by \"App\" and get the maximum number of reviews for each app\n",
    "reviews_max=android_df.groupby(\"App\")[\"Reviews\"].max()\n",
    "reviews_max[\"Instagram\"]"
   ]
  },
  {
   "cell_type": "code",
   "execution_count": 20,
   "id": "b19ea69d",
   "metadata": {},
   "outputs": [
    {
     "data": {
      "text/plain": [
       "App\n",
       "\"i DT\" Fútbol. Todos Somos Técnicos.                   27\n",
       "+Download 4 Instagram Twitter                       40467\n",
       "- Free Comics - Comic Apps                            115\n",
       ".R                                                    259\n",
       "/u/app                                                573\n",
       "                                                    ...  \n",
       "뽕티비 - 개인방송, 인터넷방송, BJ방송                               414\n",
       "💎 I'm rich                                            718\n",
       "💘 WhatsLov: Smileys of love, stickers and GIF       22098\n",
       "📏 Smart Ruler ↔️ cm/inch measuring for homework!       19\n",
       "🔥 Football Wallpapers 4K | Full HD Backgrounds 😍    11661\n",
       "Name: Reviews, Length: 9660, dtype: object"
      ]
     },
     "execution_count": 20,
     "metadata": {},
     "output_type": "execute_result"
    }
   ],
   "source": [
    "reviews_max"
   ]
  },
  {
   "cell_type": "code",
   "execution_count": 21,
   "id": "52481303",
   "metadata": {},
   "outputs": [],
   "source": [
    "#create an empty list to store clean data\n",
    "android_clean = []\n",
    "#create an empty list to keep track of  already added app\n",
    "already_added = []\n",
    "#iterate through each row in the dataframe\n",
    "for index, row in android_df.iterrows():\n",
    "    name = row['App']\n",
    "    n_reviews = row['Reviews']\n",
    "    \n",
    "    #check if the current app has the maximum number of reviews and has not been added before\n",
    "    if (reviews_max[name] == n_reviews) and (name not in already_added):\n",
    "        android_clean.append(row) #add the app tothe clean list\n",
    "        already_added.append(name) #add the app name to the list of already added apps\n",
    "        "
   ]
  },
  {
   "cell_type": "code",
   "execution_count": 22,
   "id": "dc6827b7",
   "metadata": {},
   "outputs": [],
   "source": [
    "android_clean = pd.DataFrame(android_clean)"
   ]
  },
  {
   "cell_type": "code",
   "execution_count": 23,
   "id": "1720a3b9",
   "metadata": {},
   "outputs": [
    {
     "data": {
      "text/plain": [
       "(9660, 13)"
      ]
     },
     "execution_count": 23,
     "metadata": {},
     "output_type": "execute_result"
    }
   ],
   "source": [
    "android_clean.shape"
   ]
  },
  {
   "cell_type": "markdown",
   "id": "0e3943a8",
   "metadata": {},
   "source": [
    "# Removing Non-Engliish Apps \n",
    "# Part one\n",
    "If you explore the data sets enough,you will notice the names of some of the apps suggest \n",
    "they are not directed towards an English-Speaking audience.Below we see a couple of \n",
    "examples from both data sets."
   ]
  },
  {
   "cell_type": "code",
   "execution_count": 24,
   "id": "123e0188",
   "metadata": {},
   "outputs": [
    {
     "data": {
      "text/plain": [
       "65"
      ]
     },
     "execution_count": 24,
     "metadata": {},
     "output_type": "execute_result"
    }
   ],
   "source": [
    "ord(\"A\")"
   ]
  },
  {
   "cell_type": "code",
   "execution_count": 25,
   "id": "0e600a55",
   "metadata": {},
   "outputs": [
    {
     "data": {
      "text/plain": [
       "97"
      ]
     },
     "execution_count": 25,
     "metadata": {},
     "output_type": "execute_result"
    }
   ],
   "source": [
    "ord(\"a\")"
   ]
  },
  {
   "cell_type": "code",
   "execution_count": 26,
   "id": "ff47d116",
   "metadata": {},
   "outputs": [
    {
     "data": {
      "text/plain": [
       "'}'"
      ]
     },
     "execution_count": 26,
     "metadata": {},
     "output_type": "execute_result"
    }
   ],
   "source": [
    "chr(125)"
   ]
  },
  {
   "cell_type": "code",
   "execution_count": 27,
   "id": "a3d60853",
   "metadata": {},
   "outputs": [],
   "source": [
    "def is_english(app_name):\n",
    "    lst = []\n",
    "    for i in app_name:\n",
    "        if ord(i) > 127:\n",
    "            lst.append(False)\n",
    "        else:\n",
    "            lst.append(True)\n",
    "    check = set(lst)\n",
    "    if False in check:\n",
    "        return False\n",
    "    else:\n",
    "        return True\n"
   ]
  },
  {
   "cell_type": "code",
   "execution_count": 28,
   "id": "9676d863",
   "metadata": {},
   "outputs": [
    {
     "name": "stdout",
     "output_type": "stream",
     "text": [
      "s\n",
      "a\n",
      "n\n",
      "i\n",
      "a\n"
     ]
    }
   ],
   "source": [
    "for i in \"sania\":\n",
    "    print(i)"
   ]
  },
  {
   "cell_type": "code",
   "execution_count": 29,
   "id": "489b90d8",
   "metadata": {},
   "outputs": [
    {
     "data": {
      "text/plain": [
       "False"
      ]
     },
     "execution_count": 29,
     "metadata": {},
     "output_type": "execute_result"
    }
   ],
   "source": [
    "is_english(\"Instagram😍\")"
   ]
  },
  {
   "cell_type": "code",
   "execution_count": 30,
   "id": "3366397a",
   "metadata": {},
   "outputs": [
    {
     "data": {
      "text/plain": [
       "True"
      ]
     },
     "execution_count": 30,
     "metadata": {},
     "output_type": "execute_result"
    }
   ],
   "source": [
    "is_english(\"Instagram\")"
   ]
  },
  {
   "cell_type": "markdown",
   "id": "33cc4913",
   "metadata": {},
   "source": [
    "# Part Two"
   ]
  },
  {
   "cell_type": "code",
   "execution_count": 31,
   "id": "85f99e54",
   "metadata": {},
   "outputs": [],
   "source": [
    "def is_english(app_name):\n",
    "    lst = []\n",
    "    for i in app_name:\n",
    "        if ord(i) > 127:\n",
    "            lst.append(False)\n",
    "        else:\n",
    "            lst.append(True)\n",
    "    non_ascii = 0\n",
    "    for j in lst:\n",
    "        if j == False:\n",
    "            non_ascii += 1\n",
    "    if non_ascii > 3:\n",
    "        return False\n",
    "    else:\n",
    "        return True\n"
   ]
  },
  {
   "cell_type": "code",
   "execution_count": 32,
   "id": "57ad107c",
   "metadata": {},
   "outputs": [
    {
     "data": {
      "text/plain": [
       "False"
      ]
     },
     "execution_count": 32,
     "metadata": {},
     "output_type": "execute_result"
    }
   ],
   "source": [
    "is_english(\"english jokes 😊😊 😊😊 \")"
   ]
  },
  {
   "cell_type": "code",
   "execution_count": 33,
   "id": "3355fb31",
   "metadata": {},
   "outputs": [
    {
     "data": {
      "text/plain": [
       "True"
      ]
     },
     "execution_count": 33,
     "metadata": {},
     "output_type": "execute_result"
    }
   ],
   "source": [
    "is_english(\"insta\")"
   ]
  },
  {
   "cell_type": "code",
   "execution_count": 34,
   "id": "de63a252",
   "metadata": {},
   "outputs": [
    {
     "data": {
      "text/plain": [
       "0        True\n",
       "2        True\n",
       "3        True\n",
       "4        True\n",
       "5        True\n",
       "         ... \n",
       "10836    True\n",
       "10837    True\n",
       "10838    True\n",
       "10839    True\n",
       "10840    True\n",
       "Name: App, Length: 9660, dtype: bool"
      ]
     },
     "execution_count": 34,
     "metadata": {},
     "output_type": "execute_result"
    }
   ],
   "source": [
    "android_clean[\"App\"].apply(is_english)"
   ]
  },
  {
   "cell_type": "code",
   "execution_count": 35,
   "id": "271761c0",
   "metadata": {},
   "outputs": [],
   "source": [
    "android_english = android_clean[android_clean[\"App\"].apply(is_english)]"
   ]
  },
  {
   "cell_type": "code",
   "execution_count": 36,
   "id": "16181108",
   "metadata": {},
   "outputs": [
    {
     "data": {
      "text/plain": [
       "(9615, 13)"
      ]
     },
     "execution_count": 36,
     "metadata": {},
     "output_type": "execute_result"
    }
   ],
   "source": [
    "android_english.shape"
   ]
  },
  {
   "cell_type": "code",
   "execution_count": 37,
   "id": "c38b5b40",
   "metadata": {},
   "outputs": [
    {
     "data": {
      "text/html": [
       "<div>\n",
       "<style scoped>\n",
       "    .dataframe tbody tr th:only-of-type {\n",
       "        vertical-align: middle;\n",
       "    }\n",
       "\n",
       "    .dataframe tbody tr th {\n",
       "        vertical-align: top;\n",
       "    }\n",
       "\n",
       "    .dataframe thead th {\n",
       "        text-align: right;\n",
       "    }\n",
       "</style>\n",
       "<table border=\"1\" class=\"dataframe\">\n",
       "  <thead>\n",
       "    <tr style=\"text-align: right;\">\n",
       "      <th></th>\n",
       "      <th>App</th>\n",
       "      <th>Category</th>\n",
       "      <th>Rating</th>\n",
       "      <th>Reviews</th>\n",
       "      <th>Size</th>\n",
       "      <th>Installs</th>\n",
       "      <th>Type</th>\n",
       "      <th>Price</th>\n",
       "      <th>Content Rating</th>\n",
       "      <th>Genres</th>\n",
       "      <th>Last Updated</th>\n",
       "      <th>Current Ver</th>\n",
       "      <th>Android Ver</th>\n",
       "    </tr>\n",
       "  </thead>\n",
       "  <tbody>\n",
       "    <tr>\n",
       "      <th>0</th>\n",
       "      <td>Photo Editor &amp; Candy Camera &amp; Grid &amp; ScrapBook</td>\n",
       "      <td>ART_AND_DESIGN</td>\n",
       "      <td>4.1</td>\n",
       "      <td>159</td>\n",
       "      <td>19M</td>\n",
       "      <td>10,000+</td>\n",
       "      <td>Free</td>\n",
       "      <td>0</td>\n",
       "      <td>Everyone</td>\n",
       "      <td>Art &amp; Design</td>\n",
       "      <td>January 7, 2018</td>\n",
       "      <td>1.0.0</td>\n",
       "      <td>4.0.3 and up</td>\n",
       "    </tr>\n",
       "    <tr>\n",
       "      <th>2</th>\n",
       "      <td>U Launcher Lite – FREE Live Cool Themes, Hide ...</td>\n",
       "      <td>ART_AND_DESIGN</td>\n",
       "      <td>4.7</td>\n",
       "      <td>87510</td>\n",
       "      <td>8.7M</td>\n",
       "      <td>5,000,000+</td>\n",
       "      <td>Free</td>\n",
       "      <td>0</td>\n",
       "      <td>Everyone</td>\n",
       "      <td>Art &amp; Design</td>\n",
       "      <td>August 1, 2018</td>\n",
       "      <td>1.2.4</td>\n",
       "      <td>4.0.3 and up</td>\n",
       "    </tr>\n",
       "    <tr>\n",
       "      <th>3</th>\n",
       "      <td>Sketch - Draw &amp; Paint</td>\n",
       "      <td>ART_AND_DESIGN</td>\n",
       "      <td>4.5</td>\n",
       "      <td>215644</td>\n",
       "      <td>25M</td>\n",
       "      <td>50,000,000+</td>\n",
       "      <td>Free</td>\n",
       "      <td>0</td>\n",
       "      <td>Teen</td>\n",
       "      <td>Art &amp; Design</td>\n",
       "      <td>June 8, 2018</td>\n",
       "      <td>Varies with device</td>\n",
       "      <td>4.2 and up</td>\n",
       "    </tr>\n",
       "    <tr>\n",
       "      <th>4</th>\n",
       "      <td>Pixel Draw - Number Art Coloring Book</td>\n",
       "      <td>ART_AND_DESIGN</td>\n",
       "      <td>4.3</td>\n",
       "      <td>967</td>\n",
       "      <td>2.8M</td>\n",
       "      <td>100,000+</td>\n",
       "      <td>Free</td>\n",
       "      <td>0</td>\n",
       "      <td>Everyone</td>\n",
       "      <td>Art &amp; Design;Creativity</td>\n",
       "      <td>June 20, 2018</td>\n",
       "      <td>1.1</td>\n",
       "      <td>4.4 and up</td>\n",
       "    </tr>\n",
       "    <tr>\n",
       "      <th>5</th>\n",
       "      <td>Paper flowers instructions</td>\n",
       "      <td>ART_AND_DESIGN</td>\n",
       "      <td>4.4</td>\n",
       "      <td>167</td>\n",
       "      <td>5.6M</td>\n",
       "      <td>50,000+</td>\n",
       "      <td>Free</td>\n",
       "      <td>0</td>\n",
       "      <td>Everyone</td>\n",
       "      <td>Art &amp; Design</td>\n",
       "      <td>March 26, 2017</td>\n",
       "      <td>1.0</td>\n",
       "      <td>2.3 and up</td>\n",
       "    </tr>\n",
       "  </tbody>\n",
       "</table>\n",
       "</div>"
      ],
      "text/plain": [
       "                                                 App        Category Rating  \\\n",
       "0     Photo Editor & Candy Camera & Grid & ScrapBook  ART_AND_DESIGN    4.1   \n",
       "2  U Launcher Lite – FREE Live Cool Themes, Hide ...  ART_AND_DESIGN    4.7   \n",
       "3                              Sketch - Draw & Paint  ART_AND_DESIGN    4.5   \n",
       "4              Pixel Draw - Number Art Coloring Book  ART_AND_DESIGN    4.3   \n",
       "5                         Paper flowers instructions  ART_AND_DESIGN    4.4   \n",
       "\n",
       "  Reviews  Size     Installs  Type Price Content Rating  \\\n",
       "0     159   19M      10,000+  Free     0       Everyone   \n",
       "2   87510  8.7M   5,000,000+  Free     0       Everyone   \n",
       "3  215644   25M  50,000,000+  Free     0           Teen   \n",
       "4     967  2.8M     100,000+  Free     0       Everyone   \n",
       "5     167  5.6M      50,000+  Free     0       Everyone   \n",
       "\n",
       "                    Genres     Last Updated         Current Ver   Android Ver  \n",
       "0             Art & Design  January 7, 2018               1.0.0  4.0.3 and up  \n",
       "2             Art & Design   August 1, 2018               1.2.4  4.0.3 and up  \n",
       "3             Art & Design     June 8, 2018  Varies with device    4.2 and up  \n",
       "4  Art & Design;Creativity    June 20, 2018                 1.1    4.4 and up  \n",
       "5             Art & Design   March 26, 2017                 1.0    2.3 and up  "
      ]
     },
     "execution_count": 37,
     "metadata": {},
     "output_type": "execute_result"
    }
   ],
   "source": [
    "android_english.head()"
   ]
  },
  {
   "cell_type": "markdown",
   "id": "c3fb3f65",
   "metadata": {},
   "source": [
    "# Isolating the Free Apps\n",
    "As we mentioned in the introduction,we only build apps that are free to downloaded and install, and our main source of revenue consist of in_app ads.Our data set contains both free and non_free apps and we will neeed to isolate only the free apps for our analysis. Below,we isolate for both our data sets."
   ]
  },
  {
   "cell_type": "code",
   "execution_count": 38,
   "id": "96f18a27",
   "metadata": {},
   "outputs": [
    {
     "data": {
      "text/plain": [
       "array(['0', '$4.99', '$3.99', '$6.99', '$1.49', '$2.99', '$7.99', '$5.99',\n",
       "       '$3.49', '$1.99', '$9.99', '$7.49', '$0.99', '$9.00', '$5.49',\n",
       "       '$10.00', '$11.99', '$79.99', '$16.99', '$14.99', '$1.00',\n",
       "       '$29.99', '$12.99', '$2.49', '$24.99', '$10.99', '$1.50', '$19.99',\n",
       "       '$15.99', '$33.99', '$74.99', '$39.99', '$3.95', '$4.49', '$1.70',\n",
       "       '$8.99', '$2.00', '$3.88', '$25.99', '$399.99', '$17.99',\n",
       "       '$400.00', '$3.02', '$1.76', '$4.84', '$4.77', '$1.61', '$2.50',\n",
       "       '$1.59', '$6.49', '$1.29', '$5.00', '$13.99', '$299.99', '$379.99',\n",
       "       '$37.99', '$18.99', '$389.99', '$19.90', '$8.49', '$1.75',\n",
       "       '$14.00', '$4.85', '$46.99', '$109.99', '$154.99', '$3.08',\n",
       "       '$2.59', '$4.80', '$1.96', '$19.40', '$3.90', '$4.59', '$15.46',\n",
       "       '$3.04', '$4.29', '$2.60', '$3.28', '$4.60', '$28.99', '$2.95',\n",
       "       '$2.90', '$1.97', '$200.00', '$89.99', '$2.56', '$30.99', '$3.61',\n",
       "       '$394.99', '$1.26', '$1.20', '$1.04'], dtype=object)"
      ]
     },
     "execution_count": 38,
     "metadata": {},
     "output_type": "execute_result"
    }
   ],
   "source": [
    "android_english[\"Price\"].unique()"
   ]
  },
  {
   "cell_type": "code",
   "execution_count": 39,
   "id": "a944457e",
   "metadata": {},
   "outputs": [],
   "source": [
    "android_final = android_english[android_english[\"Price\"]==\"0\"]"
   ]
  },
  {
   "cell_type": "code",
   "execution_count": 40,
   "id": "f98bc5b6",
   "metadata": {},
   "outputs": [
    {
     "data": {
      "text/plain": [
       "(8863, 13)"
      ]
     },
     "execution_count": 40,
     "metadata": {},
     "output_type": "execute_result"
    }
   ],
   "source": [
    "android_final.shape"
   ]
  },
  {
   "cell_type": "markdown",
   "id": "065a5e20",
   "metadata": {},
   "source": [
    "# Most Common Apps by Genre "
   ]
  },
  {
   "cell_type": "code",
   "execution_count": 41,
   "id": "5470e47f",
   "metadata": {},
   "outputs": [],
   "source": [
    "#Analysis"
   ]
  },
  {
   "cell_type": "code",
   "execution_count": 42,
   "id": "c0028426",
   "metadata": {},
   "outputs": [
    {
     "data": {
      "text/plain": [
       "FAMILY                 0.189326\n",
       "GAME                   0.096920\n",
       "TOOLS                  0.084509\n",
       "BUSINESS               0.045921\n",
       "LIFESTYLE              0.039152\n",
       "PRODUCTIVITY           0.038926\n",
       "FINANCE                0.037008\n",
       "MEDICAL                0.035203\n",
       "SPORTS                 0.033961\n",
       "PERSONALIZATION        0.033172\n",
       "COMMUNICATION          0.032382\n",
       "HEALTH_AND_FITNESS     0.030802\n",
       "PHOTOGRAPHY            0.029448\n",
       "NEWS_AND_MAGAZINES     0.027981\n",
       "SOCIAL                 0.026628\n",
       "TRAVEL_AND_LOCAL       0.023356\n",
       "SHOPPING               0.022453\n",
       "BOOKS_AND_REFERENCE    0.021437\n",
       "DATING                 0.018617\n",
       "VIDEO_PLAYERS          0.017940\n",
       "MAPS_AND_NAVIGATION    0.013991\n",
       "FOOD_AND_DRINK         0.012411\n",
       "EDUCATION              0.011734\n",
       "ENTERTAINMENT          0.009590\n",
       "LIBRARIES_AND_DEMO     0.009365\n",
       "AUTO_AND_VEHICLES      0.009252\n",
       "HOUSE_AND_HOME         0.008236\n",
       "WEATHER                0.008011\n",
       "EVENTS                 0.007108\n",
       "PARENTING              0.006544\n",
       "ART_AND_DESIGN         0.006431\n",
       "COMICS                 0.006206\n",
       "BEAUTY                 0.005980\n",
       "Name: Category, dtype: float64"
      ]
     },
     "execution_count": 42,
     "metadata": {},
     "output_type": "execute_result"
    }
   ],
   "source": [
    "android_final[\"Category\"].value_counts(normalize=True)*True"
   ]
  },
  {
   "cell_type": "code",
   "execution_count": 43,
   "id": "572ee6f1",
   "metadata": {},
   "outputs": [
    {
     "data": {
      "image/png": "[encoded data removed]",
      "text/plain": [
       "<Figure size 1200x800 with 1 Axes>"
      ]
     },
     "metadata": {},
     "output_type": "display_data"
    }
   ],
   "source": [
    "#Data\n",
    "categories = android_final[\"Category\"].value_counts().index[:15]\n",
    "counts = android_final[\"Category\"].value_counts().values[:15]\n",
    "percentage = round(android_final[\"Category\"].value_counts(normalize = True)*100,1)[:15]\n",
    "\n",
    "#create stylish bar chart\n",
    "plt.figure(figsize=(12, 8))\n",
    "bars = plt.bar(categories,counts,color=\"lightblue\", alpha=0.75, edgecolor=\"black\", linewidth=1.5)\n",
    "plt.xticks(rotation=90, fontsize=12)\n",
    "plt.yticks(fontsize=12)\n",
    "plt.grid(axis=\"y\", linestyle= '--', alpha=0.7)\n",
    "plt.grid(axis=\"x\", linestyle= '')\n",
    "plt.xticks(fontsize=12) #customized tick tables\n",
    "plt.yticks(range(0,3000,500),[],fontsize=12) # customized tick table and customized y_tick table\n",
    "plt.tick_params(bottom=0, left=0)\n",
    "\n",
    "#find the category with the highest count\n",
    "max_count_category = categories[counts.argmax()]\n",
    "\n",
    "#highlight the bar for the category with the highest count\n",
    "max_count_index = list(categories).index(max_count_category)\n",
    "bars[max_count_index].set_color('brown')\n",
    "bars[max_count_index].set_edgecolor('black')\n",
    "\n",
    "#adding data labels and percentage inside each bar\n",
    "for bar, perc in zip(bars,percentage):\n",
    "    height = bar.get_height()\n",
    "    plt.text(bar.get_x() + bar.get_width()/2, height + 20, '%d' % int(height), ha= 'center', va='bottom',fontsize=10)\n",
    "    plt.text(bar.get_x() + bar.get_width()/2, height/2, f'{perc}%', ha= 'center', va='center',fontsize=10,color='black')\n",
    "\n",
    "#adding a background color\n",
    "ax = plt.gca()\n",
    "ax.set_facecolor('#f7f7f7')\n",
    "\n",
    "#adding chart title inside the chart\n",
    "plt.text(0.5,0.95,'Top Android App Categories',horizontalalignment='center',fontsize=16,transform=plt.gca().transAxes,\n",
    "         color='gray',fontweight='bold')\n",
    "\n",
    "#adding conclusion inside the chart\n",
    "plt.text(0.5,0.86,'The \"FAMILY\" category stand out as the most prevalent among the top android app categories,\\n showcasing a cosiderable demand for family-oriented applications', horizontalalignment='center',fontsize=14,transform=plt.gca().transAxes,\n",
    "         color='gray')\n",
    "\n",
    "#remove spines\n",
    "for i in [\"top\",\"right\",\"left\",]:\n",
    "    plt.gca().spines[i].set_visible(False)\n",
    "\n",
    "plt.tight_layout() #adjust layout to prevent clipping\n",
    "plt.show()\n"
   ]
  },
  {
   "cell_type": "code",
   "execution_count": 44,
   "id": "91b66c7f",
   "metadata": {},
   "outputs": [
    {
     "data": {
      "text/html": [
       "<div>\n",
       "<style scoped>\n",
       "    .dataframe tbody tr th:only-of-type {\n",
       "        vertical-align: middle;\n",
       "    }\n",
       "\n",
       "    .dataframe tbody tr th {\n",
       "        vertical-align: top;\n",
       "    }\n",
       "\n",
       "    .dataframe thead th {\n",
       "        text-align: right;\n",
       "    }\n",
       "</style>\n",
       "<table border=\"1\" class=\"dataframe\">\n",
       "  <thead>\n",
       "    <tr style=\"text-align: right;\">\n",
       "      <th></th>\n",
       "      <th>App</th>\n",
       "      <th>Category</th>\n",
       "      <th>Rating</th>\n",
       "      <th>Reviews</th>\n",
       "      <th>Size</th>\n",
       "      <th>Installs</th>\n",
       "      <th>Type</th>\n",
       "      <th>Price</th>\n",
       "      <th>Content Rating</th>\n",
       "      <th>Genres</th>\n",
       "      <th>Last Updated</th>\n",
       "      <th>Current Ver</th>\n",
       "      <th>Android Ver</th>\n",
       "    </tr>\n",
       "  </thead>\n",
       "  <tbody>\n",
       "    <tr>\n",
       "      <th>2017</th>\n",
       "      <td>Jewels Crush- Match 3 Puzzle</td>\n",
       "      <td>FAMILY</td>\n",
       "      <td>4.4</td>\n",
       "      <td>14774</td>\n",
       "      <td>19M</td>\n",
       "      <td>1,000,000+</td>\n",
       "      <td>Free</td>\n",
       "      <td>0</td>\n",
       "      <td>Everyone</td>\n",
       "      <td>Casual;Brain Games</td>\n",
       "      <td>July 23, 2018</td>\n",
       "      <td>1.9.3901</td>\n",
       "      <td>4.0.3 and up</td>\n",
       "    </tr>\n",
       "    <tr>\n",
       "      <th>2018</th>\n",
       "      <td>Coloring &amp; Learn</td>\n",
       "      <td>FAMILY</td>\n",
       "      <td>4.4</td>\n",
       "      <td>12753</td>\n",
       "      <td>51M</td>\n",
       "      <td>5,000,000+</td>\n",
       "      <td>Free</td>\n",
       "      <td>0</td>\n",
       "      <td>Everyone</td>\n",
       "      <td>Educational;Creativity</td>\n",
       "      <td>July 17, 2018</td>\n",
       "      <td>1.49</td>\n",
       "      <td>4.0.3 and up</td>\n",
       "    </tr>\n",
       "    <tr>\n",
       "      <th>2019</th>\n",
       "      <td>Mahjong</td>\n",
       "      <td>FAMILY</td>\n",
       "      <td>4.5</td>\n",
       "      <td>33983</td>\n",
       "      <td>22M</td>\n",
       "      <td>5,000,000+</td>\n",
       "      <td>Free</td>\n",
       "      <td>0</td>\n",
       "      <td>Everyone</td>\n",
       "      <td>Puzzle;Brain Games</td>\n",
       "      <td>August 2, 2018</td>\n",
       "      <td>1.24.3181</td>\n",
       "      <td>4.0.3 and up</td>\n",
       "    </tr>\n",
       "    <tr>\n",
       "      <th>2020</th>\n",
       "      <td>Super ABC! Learning games for kids! Preschool ...</td>\n",
       "      <td>FAMILY</td>\n",
       "      <td>4.6</td>\n",
       "      <td>20267</td>\n",
       "      <td>46M</td>\n",
       "      <td>1,000,000+</td>\n",
       "      <td>Free</td>\n",
       "      <td>0</td>\n",
       "      <td>Everyone</td>\n",
       "      <td>Educational;Education</td>\n",
       "      <td>July 16, 2018</td>\n",
       "      <td>1.1.6.7</td>\n",
       "      <td>4.1 and up</td>\n",
       "    </tr>\n",
       "    <tr>\n",
       "      <th>2021</th>\n",
       "      <td>Toy Pop Cubes</td>\n",
       "      <td>FAMILY</td>\n",
       "      <td>4.5</td>\n",
       "      <td>5761</td>\n",
       "      <td>21M</td>\n",
       "      <td>1,000,000+</td>\n",
       "      <td>Free</td>\n",
       "      <td>0</td>\n",
       "      <td>Everyone</td>\n",
       "      <td>Casual;Brain Games</td>\n",
       "      <td>July 4, 2018</td>\n",
       "      <td>1.8.3181</td>\n",
       "      <td>4.0.3 and up</td>\n",
       "    </tr>\n",
       "    <tr>\n",
       "      <th>...</th>\n",
       "      <td>...</td>\n",
       "      <td>...</td>\n",
       "      <td>...</td>\n",
       "      <td>...</td>\n",
       "      <td>...</td>\n",
       "      <td>...</td>\n",
       "      <td>...</td>\n",
       "      <td>...</td>\n",
       "      <td>...</td>\n",
       "      <td>...</td>\n",
       "      <td>...</td>\n",
       "      <td>...</td>\n",
       "      <td>...</td>\n",
       "    </tr>\n",
       "    <tr>\n",
       "      <th>10821</th>\n",
       "      <td>Poop FR</td>\n",
       "      <td>FAMILY</td>\n",
       "      <td>NaN</td>\n",
       "      <td>6</td>\n",
       "      <td>2.5M</td>\n",
       "      <td>50+</td>\n",
       "      <td>Free</td>\n",
       "      <td>0</td>\n",
       "      <td>Everyone</td>\n",
       "      <td>Entertainment</td>\n",
       "      <td>May 29, 2018</td>\n",
       "      <td>1.0</td>\n",
       "      <td>4.0.3 and up</td>\n",
       "    </tr>\n",
       "    <tr>\n",
       "      <th>10827</th>\n",
       "      <td>Fr Agnel Ambarnath</td>\n",
       "      <td>FAMILY</td>\n",
       "      <td>4.2</td>\n",
       "      <td>117</td>\n",
       "      <td>13M</td>\n",
       "      <td>5,000+</td>\n",
       "      <td>Free</td>\n",
       "      <td>0</td>\n",
       "      <td>Everyone</td>\n",
       "      <td>Education</td>\n",
       "      <td>June 13, 2018</td>\n",
       "      <td>2.0.20</td>\n",
       "      <td>4.0.3 and up</td>\n",
       "    </tr>\n",
       "    <tr>\n",
       "      <th>10834</th>\n",
       "      <td>FR Calculator</td>\n",
       "      <td>FAMILY</td>\n",
       "      <td>4.0</td>\n",
       "      <td>7</td>\n",
       "      <td>2.6M</td>\n",
       "      <td>500+</td>\n",
       "      <td>Free</td>\n",
       "      <td>0</td>\n",
       "      <td>Everyone</td>\n",
       "      <td>Education</td>\n",
       "      <td>June 18, 2017</td>\n",
       "      <td>1.0.0</td>\n",
       "      <td>4.1 and up</td>\n",
       "    </tr>\n",
       "    <tr>\n",
       "      <th>10836</th>\n",
       "      <td>Sya9a Maroc - FR</td>\n",
       "      <td>FAMILY</td>\n",
       "      <td>4.5</td>\n",
       "      <td>38</td>\n",
       "      <td>53M</td>\n",
       "      <td>5,000+</td>\n",
       "      <td>Free</td>\n",
       "      <td>0</td>\n",
       "      <td>Everyone</td>\n",
       "      <td>Education</td>\n",
       "      <td>July 25, 2017</td>\n",
       "      <td>1.48</td>\n",
       "      <td>4.1 and up</td>\n",
       "    </tr>\n",
       "    <tr>\n",
       "      <th>10837</th>\n",
       "      <td>Fr. Mike Schmitz Audio Teachings</td>\n",
       "      <td>FAMILY</td>\n",
       "      <td>5.0</td>\n",
       "      <td>4</td>\n",
       "      <td>3.6M</td>\n",
       "      <td>100+</td>\n",
       "      <td>Free</td>\n",
       "      <td>0</td>\n",
       "      <td>Everyone</td>\n",
       "      <td>Education</td>\n",
       "      <td>July 6, 2018</td>\n",
       "      <td>1.0</td>\n",
       "      <td>4.1 and up</td>\n",
       "    </tr>\n",
       "  </tbody>\n",
       "</table>\n",
       "<p>1678 rows × 13 columns</p>\n",
       "</div>"
      ],
      "text/plain": [
       "                                                     App Category Rating  \\\n",
       "2017                        Jewels Crush- Match 3 Puzzle   FAMILY    4.4   \n",
       "2018                                    Coloring & Learn   FAMILY    4.4   \n",
       "2019                                             Mahjong   FAMILY    4.5   \n",
       "2020   Super ABC! Learning games for kids! Preschool ...   FAMILY    4.6   \n",
       "2021                                       Toy Pop Cubes   FAMILY    4.5   \n",
       "...                                                  ...      ...    ...   \n",
       "10821                                            Poop FR   FAMILY    NaN   \n",
       "10827                                 Fr Agnel Ambarnath   FAMILY    4.2   \n",
       "10834                                      FR Calculator   FAMILY    4.0   \n",
       "10836                                   Sya9a Maroc - FR   FAMILY    4.5   \n",
       "10837                   Fr. Mike Schmitz Audio Teachings   FAMILY    5.0   \n",
       "\n",
       "      Reviews  Size    Installs  Type Price Content Rating  \\\n",
       "2017    14774   19M  1,000,000+  Free     0       Everyone   \n",
       "2018    12753   51M  5,000,000+  Free     0       Everyone   \n",
       "2019    33983   22M  5,000,000+  Free     0       Everyone   \n",
       "2020    20267   46M  1,000,000+  Free     0       Everyone   \n",
       "2021     5761   21M  1,000,000+  Free     0       Everyone   \n",
       "...       ...   ...         ...   ...   ...            ...   \n",
       "10821       6  2.5M         50+  Free     0       Everyone   \n",
       "10827     117   13M      5,000+  Free     0       Everyone   \n",
       "10834       7  2.6M        500+  Free     0       Everyone   \n",
       "10836      38   53M      5,000+  Free     0       Everyone   \n",
       "10837       4  3.6M        100+  Free     0       Everyone   \n",
       "\n",
       "                       Genres    Last Updated Current Ver   Android Ver  \n",
       "2017       Casual;Brain Games   July 23, 2018    1.9.3901  4.0.3 and up  \n",
       "2018   Educational;Creativity   July 17, 2018        1.49  4.0.3 and up  \n",
       "2019       Puzzle;Brain Games  August 2, 2018   1.24.3181  4.0.3 and up  \n",
       "2020    Educational;Education   July 16, 2018     1.1.6.7    4.1 and up  \n",
       "2021       Casual;Brain Games    July 4, 2018    1.8.3181  4.0.3 and up  \n",
       "...                       ...             ...         ...           ...  \n",
       "10821           Entertainment    May 29, 2018         1.0  4.0.3 and up  \n",
       "10827               Education   June 13, 2018      2.0.20  4.0.3 and up  \n",
       "10834               Education   June 18, 2017       1.0.0    4.1 and up  \n",
       "10836               Education   July 25, 2017        1.48    4.1 and up  \n",
       "10837               Education    July 6, 2018         1.0    4.1 and up  \n",
       "\n",
       "[1678 rows x 13 columns]"
      ]
     },
     "execution_count": 44,
     "metadata": {},
     "output_type": "execute_result"
    }
   ],
   "source": [
    "android_final[android_final[\"Category\"]==\"FAMILY\"]"
   ]
  },
  {
   "cell_type": "markdown",
   "id": "8e77090e",
   "metadata": {},
   "source": [
    "# Most Popular App by genre on Google Play Store\n",
    "For the google play market, we actually have data baout the number of install, so we should be able to get a clearer picture genre popularity. However the install number don't seem precise enough--we can see the most values are open ended (100,+1000,+5000 etc)."
   ]
  },
  {
   "cell_type": "code",
   "execution_count": 45,
   "id": "fcce8d38",
   "metadata": {},
   "outputs": [
    {
     "data": {
      "text/plain": [
       "1,000,000+        15.739592\n",
       "100,000+          11.553650\n",
       "10,000,000+       10.515627\n",
       "10,000+           10.199707\n",
       "1,000+             8.405732\n",
       "100+               6.916394\n",
       "5,000,000+         6.837414\n",
       "500,000+           5.573733\n",
       "50,000+            4.772650\n",
       "5,000+             4.513145\n",
       "10+                3.542818\n",
       "500+               3.249464\n",
       "50,000,000+        2.290421\n",
       "100,000,000+       2.121178\n",
       "50+                1.918086\n",
       "5+                 0.789800\n",
       "1+                 0.507729\n",
       "500,000,000+       0.270789\n",
       "1,000,000,000+     0.225657\n",
       "0+                 0.045131\n",
       "0                  0.011283\n",
       "Name: Installs, dtype: float64"
      ]
     },
     "execution_count": 45,
     "metadata": {},
     "output_type": "execute_result"
    }
   ],
   "source": [
    "android_final[\"Installs\"].value_counts(normalize = True)*100"
   ]
  },
  {
   "cell_type": "code",
   "execution_count": 46,
   "id": "861fa421",
   "metadata": {},
   "outputs": [
    {
     "name": "stderr",
     "output_type": "stream",
     "text": [
      "C:\\Users\\hassa\\AppData\\Local\\Temp\\ipykernel_17908\\3840374705.py:1: FutureWarning: The default value of regex will change from True to False in a future version. In addition, single character regular expressions will *not* be treated as literal strings when regex=True.\n",
      "  android_final[\"Installs_int\"] = android_final[\"Installs\"].str.replace(\",\",\"\").str.replace(\"+\",\"\").astype(int)\n",
      "C:\\Users\\hassa\\AppData\\Local\\Temp\\ipykernel_17908\\3840374705.py:1: SettingWithCopyWarning: \n",
      "A value is trying to be set on a copy of a slice from a DataFrame.\n",
      "Try using .loc[row_indexer,col_indexer] = value instead\n",
      "\n",
      "See the caveats in the documentation: https://pandas.pydata.org/pandas-docs/stable/user_guide/indexing.html#returning-a-view-versus-a-copy\n",
      "  android_final[\"Installs_int\"] = android_final[\"Installs\"].str.replace(\",\",\"\").str.replace(\"+\",\"\").astype(int)\n"
     ]
    }
   ],
   "source": [
    "android_final[\"Installs_int\"] = android_final[\"Installs\"].str.replace(\",\",\"\").str.replace(\"+\",\"\").astype(int)"
   ]
  },
  {
   "cell_type": "code",
   "execution_count": 47,
   "id": "3e93506e",
   "metadata": {},
   "outputs": [
    {
     "data": {
      "text/plain": [
       "1000           745\n",
       "5000           400\n",
       "10000          904\n",
       "50000          423\n",
       "100000        1024\n",
       "500000         494\n",
       "1000000       1395\n",
       "5000000        606\n",
       "10000000       932\n",
       "50000000       203\n",
       "100000000      188\n",
       "500000000       24\n",
       "1000000000      20\n",
       "Name: Installs_int, dtype: int64"
      ]
     },
     "execution_count": 47,
     "metadata": {},
     "output_type": "execute_result"
    }
   ],
   "source": [
    "install_frq = android_final[\"Installs_int\"].value_counts().sort_index()\n",
    "install_frq = install_frq[install_frq.index > 500]\n",
    "install_frq "
   ]
  },
  {
   "cell_type": "code",
   "execution_count": 48,
   "id": "83c0b9a8",
   "metadata": {},
   "outputs": [
    {
     "data": {
      "text/plain": [
       "1000           8.41\n",
       "5000           4.51\n",
       "10000         10.20\n",
       "50000          4.77\n",
       "100000        11.55\n",
       "500000         5.57\n",
       "1000000       15.74\n",
       "5000000        6.84\n",
       "10000000      10.52\n",
       "50000000       2.29\n",
       "100000000      2.12\n",
       "500000000      0.27\n",
       "1000000000     0.23\n",
       "Name: Installs_int, dtype: float64"
      ]
     },
     "execution_count": 48,
     "metadata": {},
     "output_type": "execute_result"
    }
   ],
   "source": [
    "install_frq_per = round(android_final[\"Installs_int\"].value_counts(normalize = True)*100,2).sort_index()\n",
    "install_frq_per = install_frq_per[install_frq_per.index > 500]\n",
    "install_frq_per"
   ]
  },
  {
   "cell_type": "code",
   "execution_count": 49,
   "id": "93ae5ce6",
   "metadata": {},
   "outputs": [],
   "source": [
    "#alphanumeric_units\n",
    "def alphanumeric_units(value):\n",
    "    if value >= 1e9:\n",
    "        return f'{value / 1e9:.0f}B'\n",
    "    elif value >= 1e6:\n",
    "        return f'{value / 1e6:.0f}M'\n",
    "    elif value >= 1e3:\n",
    "        return f'{value / 1e3:.0f}K'\n",
    "    else:\n",
    "        return f'{value:.0f}'     "
   ]
  },
  {
   "cell_type": "code",
   "execution_count": 50,
   "id": "b8cb4d4e",
   "metadata": {},
   "outputs": [
    {
     "data": {
      "text/plain": [
       "'1B'"
      ]
     },
     "execution_count": 50,
     "metadata": {},
     "output_type": "execute_result"
    }
   ],
   "source": [
    "alphanumeric_units(1000000000)"
   ]
  },
  {
   "cell_type": "code",
   "execution_count": 51,
   "id": "aa649504",
   "metadata": {},
   "outputs": [
    {
     "data": {
      "text/plain": [
       "Int64Index([      1000,       5000,      10000,      50000,     100000,\n",
       "                500000,    1000000,    5000000,   10000000,   50000000,\n",
       "             100000000,  500000000, 1000000000],\n",
       "           dtype='int64')"
      ]
     },
     "execution_count": 51,
     "metadata": {},
     "output_type": "execute_result"
    }
   ],
   "source": [
    "install_frq.index"
   ]
  },
  {
   "cell_type": "code",
   "execution_count": 52,
   "id": "835aec18",
   "metadata": {},
   "outputs": [
    {
     "data": {
      "text/plain": [
       "Index(['1K', '5K', '10K', '50K', '100K', '500K', '1M', '5M', '10M', '50M',\n",
       "       '100M', '500M', '1B'],\n",
       "      dtype='object')"
      ]
     },
     "execution_count": 52,
     "metadata": {},
     "output_type": "execute_result"
    }
   ],
   "source": [
    "install_frq.index = install_frq.index.map(alphanumeric_units)\n",
    "install_frq.index"
   ]
  },
  {
   "cell_type": "code",
   "execution_count": 53,
   "id": "116e7369",
   "metadata": {},
   "outputs": [
    {
     "data": {
      "text/plain": [
       "1K       745\n",
       "5K       400\n",
       "10K      904\n",
       "50K      423\n",
       "100K    1024\n",
       "500K     494\n",
       "1M      1395\n",
       "5M       606\n",
       "10M      932\n",
       "50M      203\n",
       "100M     188\n",
       "500M      24\n",
       "1B        20\n",
       "Name: Installs_int, dtype: int64"
      ]
     },
     "execution_count": 53,
     "metadata": {},
     "output_type": "execute_result"
    }
   ],
   "source": [
    "install_frq"
   ]
  },
  {
   "cell_type": "code",
   "execution_count": 54,
   "id": "4b1c416e",
   "metadata": {},
   "outputs": [
    {
     "data": {
      "image/png": "[encoded data removed]",
      "text/plain": [
       "<Figure size 1200x700 with 1 Axes>"
      ]
     },
     "metadata": {},
     "output_type": "display_data"
    }
   ],
   "source": [
    "# Data\n",
    "categories = install_frq.index\n",
    "counts = install_frq.values\n",
    "percentage = install_frq_per.values\n",
    "\n",
    "#create stylish bar chart\n",
    "plt.figure(figsize=(12,7))\n",
    "bars = plt.bar(categories,counts,color='lightblue',alpha=0.75, edgecolor='black', linewidth=1.5)\n",
    "plt.xticks(rotation=90,fontsize=12)\n",
    "plt.yticks(fontsize=12)\n",
    "plt.grid(axis='y',linestyle='--',alpha=0.7)\n",
    "plt.grid(axis='x',linestyle='')\n",
    "plt.xticks(fontsize=12) #customized tick table\n",
    "plt.yticks(range(0,2500,500),[],fontsize=12) #customized tick label and customized y tick range\n",
    "plt.tick_params(bottom=0,left=0)\n",
    "\n",
    "#find the category with the highest count\n",
    "max_count_category = categories[counts.argmax()]\n",
    "\n",
    "#highlight the bar for the category with the highest count\n",
    "max_count_index = list( categories).index(max_count_category)\n",
    "bars[max_count_index].set_color('#E65BA5')\n",
    "bars[max_count_index].set_edgecolor('black')\n",
    "\n",
    "#adding data labels and percentage inside each bar\n",
    "for bar,perc in zip(bars,percentage):\n",
    "    height = bar.get_height()\n",
    "    plt.text(bar.get_x() + bar.get_width()/2, height + 20, '%d' % int(height), ha='center',va='bottom',fontsize=10)\n",
    "    plt.text(bar.get_x() + bar.get_width()/2, height/2, f'{perc}%' ,ha='center',va='center',fontsize=10,color='black')\n",
    "\n",
    "#adding a background color\n",
    "ax = plt.gca()\n",
    "ax.set_facecolor('#f7f7f7')\n",
    "\n",
    "#adding chart title inside the chart\n",
    "plt.text(0.5,0.94,'Distribution of Android App Installs',horizontalalignment='center', fontsize=16,transform=plt.gca().transAxes,\n",
    "        color='#858585',fontweight='bold')\n",
    "\n",
    "#adding conclusion inside the chart\n",
    "plt.text(0.5,-0.35,'From the data provided it is evident that the majority of Android App installs fall within the lower range,\\n with th highest number of installs being in the 1k to 10M range. \\n Specifically,1M install range stand out with 1395 app, indicating a significant of apps falling into this category \\n As the number of install increases,the count of app decreases,\\n with only a few app reaching install counts of 500M and 1B',\n",
    "        horizontalalignment='center',fontsize=11,transform=plt.gca().transAxes, color = \"#858585\",fontweight=\"bold\")\n",
    "\n",
    "# remove spines \n",
    "for i in [\"top\",\"right\",\"left\"]:\n",
    "    plt.gca().spines[i].set_visible(False)\n",
    "    \n",
    "plt.tight_layout() #adjust layout to prevent clipping\n",
    "plt.show()"
   ]
  },
  {
   "cell_type": "code",
   "execution_count": 55,
   "id": "1a88a268",
   "metadata": {},
   "outputs": [
    {
     "data": {
      "text/plain": [
       "array(['ART_AND_DESIGN', 'AUTO_AND_VEHICLES', 'BEAUTY',\n",
       "       'BOOKS_AND_REFERENCE', 'BUSINESS', 'COMICS', 'COMMUNICATION',\n",
       "       'DATING', 'EDUCATION', 'ENTERTAINMENT', 'EVENTS', 'FINANCE',\n",
       "       'FOOD_AND_DRINK', 'HEALTH_AND_FITNESS', 'HOUSE_AND_HOME',\n",
       "       'LIBRARIES_AND_DEMO', 'LIFESTYLE', 'GAME', 'FAMILY', 'MEDICAL',\n",
       "       'SOCIAL', 'SHOPPING', 'PHOTOGRAPHY', 'SPORTS', 'TRAVEL_AND_LOCAL',\n",
       "       'TOOLS', 'PERSONALIZATION', 'PRODUCTIVITY', 'PARENTING', 'WEATHER',\n",
       "       'VIDEO_PLAYERS', 'NEWS_AND_MAGAZINES', 'MAPS_AND_NAVIGATION'],\n",
       "      dtype=object)"
      ]
     },
     "execution_count": 55,
     "metadata": {},
     "output_type": "execute_result"
    }
   ],
   "source": [
    "categories_android = android_final[\"Category\"].unique()\n",
    "categories_android"
   ]
  },
  {
   "cell_type": "code",
   "execution_count": 56,
   "id": "46674c01",
   "metadata": {},
   "outputs": [
    {
     "data": {
      "text/html": [
       "<div>\n",
       "<style scoped>\n",
       "    .dataframe tbody tr th:only-of-type {\n",
       "        vertical-align: middle;\n",
       "    }\n",
       "\n",
       "    .dataframe tbody tr th {\n",
       "        vertical-align: top;\n",
       "    }\n",
       "\n",
       "    .dataframe thead th {\n",
       "        text-align: right;\n",
       "    }\n",
       "</style>\n",
       "<table border=\"1\" class=\"dataframe\">\n",
       "  <thead>\n",
       "    <tr style=\"text-align: right;\">\n",
       "      <th></th>\n",
       "      <th>Installs_int</th>\n",
       "    </tr>\n",
       "    <tr>\n",
       "      <th>Category</th>\n",
       "      <th></th>\n",
       "    </tr>\n",
       "  </thead>\n",
       "  <tbody>\n",
       "    <tr>\n",
       "      <th>ART_AND_DESIGN</th>\n",
       "      <td>1.986335e+06</td>\n",
       "    </tr>\n",
       "    <tr>\n",
       "      <th>AUTO_AND_VEHICLES</th>\n",
       "      <td>6.473178e+05</td>\n",
       "    </tr>\n",
       "    <tr>\n",
       "      <th>BEAUTY</th>\n",
       "      <td>5.131519e+05</td>\n",
       "    </tr>\n",
       "    <tr>\n",
       "      <th>BOOKS_AND_REFERENCE</th>\n",
       "      <td>8.767812e+06</td>\n",
       "    </tr>\n",
       "    <tr>\n",
       "      <th>BUSINESS</th>\n",
       "      <td>1.712290e+06</td>\n",
       "    </tr>\n",
       "    <tr>\n",
       "      <th>COMICS</th>\n",
       "      <td>8.176573e+05</td>\n",
       "    </tr>\n",
       "    <tr>\n",
       "      <th>COMMUNICATION</th>\n",
       "      <td>3.845612e+07</td>\n",
       "    </tr>\n",
       "    <tr>\n",
       "      <th>DATING</th>\n",
       "      <td>8.540288e+05</td>\n",
       "    </tr>\n",
       "    <tr>\n",
       "      <th>EDUCATION</th>\n",
       "      <td>1.820673e+06</td>\n",
       "    </tr>\n",
       "    <tr>\n",
       "      <th>ENTERTAINMENT</th>\n",
       "      <td>1.164071e+07</td>\n",
       "    </tr>\n",
       "    <tr>\n",
       "      <th>EVENTS</th>\n",
       "      <td>2.535422e+05</td>\n",
       "    </tr>\n",
       "    <tr>\n",
       "      <th>FAMILY</th>\n",
       "      <td>3.694276e+06</td>\n",
       "    </tr>\n",
       "    <tr>\n",
       "      <th>FINANCE</th>\n",
       "      <td>1.387692e+06</td>\n",
       "    </tr>\n",
       "    <tr>\n",
       "      <th>FOOD_AND_DRINK</th>\n",
       "      <td>1.924898e+06</td>\n",
       "    </tr>\n",
       "    <tr>\n",
       "      <th>GAME</th>\n",
       "      <td>1.556097e+07</td>\n",
       "    </tr>\n",
       "    <tr>\n",
       "      <th>HEALTH_AND_FITNESS</th>\n",
       "      <td>4.188822e+06</td>\n",
       "    </tr>\n",
       "    <tr>\n",
       "      <th>HOUSE_AND_HOME</th>\n",
       "      <td>1.331541e+06</td>\n",
       "    </tr>\n",
       "    <tr>\n",
       "      <th>LIBRARIES_AND_DEMO</th>\n",
       "      <td>6.385037e+05</td>\n",
       "    </tr>\n",
       "    <tr>\n",
       "      <th>LIFESTYLE</th>\n",
       "      <td>1.433676e+06</td>\n",
       "    </tr>\n",
       "    <tr>\n",
       "      <th>MAPS_AND_NAVIGATION</th>\n",
       "      <td>4.056942e+06</td>\n",
       "    </tr>\n",
       "    <tr>\n",
       "      <th>MEDICAL</th>\n",
       "      <td>1.206165e+05</td>\n",
       "    </tr>\n",
       "    <tr>\n",
       "      <th>NEWS_AND_MAGAZINES</th>\n",
       "      <td>9.549178e+06</td>\n",
       "    </tr>\n",
       "    <tr>\n",
       "      <th>PARENTING</th>\n",
       "      <td>5.426036e+05</td>\n",
       "    </tr>\n",
       "    <tr>\n",
       "      <th>PERSONALIZATION</th>\n",
       "      <td>5.201483e+06</td>\n",
       "    </tr>\n",
       "    <tr>\n",
       "      <th>PHOTOGRAPHY</th>\n",
       "      <td>1.780563e+07</td>\n",
       "    </tr>\n",
       "    <tr>\n",
       "      <th>PRODUCTIVITY</th>\n",
       "      <td>1.678733e+07</td>\n",
       "    </tr>\n",
       "    <tr>\n",
       "      <th>SHOPPING</th>\n",
       "      <td>7.036877e+06</td>\n",
       "    </tr>\n",
       "    <tr>\n",
       "      <th>SOCIAL</th>\n",
       "      <td>2.325365e+07</td>\n",
       "    </tr>\n",
       "    <tr>\n",
       "      <th>SPORTS</th>\n",
       "      <td>3.638640e+06</td>\n",
       "    </tr>\n",
       "    <tr>\n",
       "      <th>TOOLS</th>\n",
       "      <td>1.068230e+07</td>\n",
       "    </tr>\n",
       "    <tr>\n",
       "      <th>TRAVEL_AND_LOCAL</th>\n",
       "      <td>1.398408e+07</td>\n",
       "    </tr>\n",
       "    <tr>\n",
       "      <th>VIDEO_PLAYERS</th>\n",
       "      <td>2.472787e+07</td>\n",
       "    </tr>\n",
       "    <tr>\n",
       "      <th>WEATHER</th>\n",
       "      <td>5.074486e+06</td>\n",
       "    </tr>\n",
       "  </tbody>\n",
       "</table>\n",
       "</div>"
      ],
      "text/plain": [
       "                     Installs_int\n",
       "Category                         \n",
       "ART_AND_DESIGN       1.986335e+06\n",
       "AUTO_AND_VEHICLES    6.473178e+05\n",
       "BEAUTY               5.131519e+05\n",
       "BOOKS_AND_REFERENCE  8.767812e+06\n",
       "BUSINESS             1.712290e+06\n",
       "COMICS               8.176573e+05\n",
       "COMMUNICATION        3.845612e+07\n",
       "DATING               8.540288e+05\n",
       "EDUCATION            1.820673e+06\n",
       "ENTERTAINMENT        1.164071e+07\n",
       "EVENTS               2.535422e+05\n",
       "FAMILY               3.694276e+06\n",
       "FINANCE              1.387692e+06\n",
       "FOOD_AND_DRINK       1.924898e+06\n",
       "GAME                 1.556097e+07\n",
       "HEALTH_AND_FITNESS   4.188822e+06\n",
       "HOUSE_AND_HOME       1.331541e+06\n",
       "LIBRARIES_AND_DEMO   6.385037e+05\n",
       "LIFESTYLE            1.433676e+06\n",
       "MAPS_AND_NAVIGATION  4.056942e+06\n",
       "MEDICAL              1.206165e+05\n",
       "NEWS_AND_MAGAZINES   9.549178e+06\n",
       "PARENTING            5.426036e+05\n",
       "PERSONALIZATION      5.201483e+06\n",
       "PHOTOGRAPHY          1.780563e+07\n",
       "PRODUCTIVITY         1.678733e+07\n",
       "SHOPPING             7.036877e+06\n",
       "SOCIAL               2.325365e+07\n",
       "SPORTS               3.638640e+06\n",
       "TOOLS                1.068230e+07\n",
       "TRAVEL_AND_LOCAL     1.398408e+07\n",
       "VIDEO_PLAYERS        2.472787e+07\n",
       "WEATHER              5.074486e+06"
      ]
     },
     "execution_count": 56,
     "metadata": {},
     "output_type": "execute_result"
    }
   ],
   "source": [
    "pd.pivot_table(android_final, values=\"Installs_int\",index=\"Category\",aggfunc=\"mean\")"
   ]
  },
  {
   "cell_type": "code",
   "execution_count": 57,
   "id": "57719423",
   "metadata": {},
   "outputs": [],
   "source": [
    "#display DataFrame without scientific notation\n",
    "pd.options.display.float_format = '{:.0f}'.format"
   ]
  },
  {
   "cell_type": "code",
   "execution_count": 58,
   "id": "a15df3ce",
   "metadata": {},
   "outputs": [
    {
     "data": {
      "text/plain": [
       "Category\n",
       "COMMUNICATION         38456119\n",
       "VIDEO_PLAYERS         24727872\n",
       "SOCIAL                23253652\n",
       "PHOTOGRAPHY           17805628\n",
       "PRODUCTIVITY          16787331\n",
       "GAME                  15560966\n",
       "TRAVEL_AND_LOCAL      13984078\n",
       "ENTERTAINMENT         11640706\n",
       "TOOLS                 10682301\n",
       "NEWS_AND_MAGAZINES     9549178\n",
       "BOOKS_AND_REFERENCE    8767812\n",
       "SHOPPING               7036877\n",
       "PERSONALIZATION        5201483\n",
       "WEATHER                5074486\n",
       "HEALTH_AND_FITNESS     4188822\n",
       "MAPS_AND_NAVIGATION    4056942\n",
       "FAMILY                 3694276\n",
       "SPORTS                 3638640\n",
       "ART_AND_DESIGN         1986335\n",
       "FOOD_AND_DRINK         1924898\n",
       "EDUCATION              1820673\n",
       "BUSINESS               1712290\n",
       "LIFESTYLE              1433676\n",
       "FINANCE                1387692\n",
       "HOUSE_AND_HOME         1331541\n",
       "DATING                  854029\n",
       "COMICS                  817657\n",
       "AUTO_AND_VEHICLES       647318\n",
       "LIBRARIES_AND_DEMO      638504\n",
       "PARENTING               542604\n",
       "BEAUTY                  513152\n",
       "EVENTS                  253542\n",
       "MEDICAL                 120616\n",
       "Name: Installs_int, dtype: float64"
      ]
     },
     "execution_count": 58,
     "metadata": {},
     "output_type": "execute_result"
    }
   ],
   "source": [
    "categories_installs = pd.pivot_table(android_final, values=\"Installs_int\",index=\"Category\",aggfunc=\"mean\")\n",
    "categories_installs = categories_installs.sort_values(by=\"Installs_int\", ascending=False)\n",
    "categories_installs = categories_installs[\"Installs_int\"]\n",
    "categories_installs"
   ]
  },
  {
   "cell_type": "code",
   "execution_count": 59,
   "id": "733208f8",
   "metadata": {},
   "outputs": [],
   "source": [
    "#alphanumeric_units\n",
    "def alphanumeric_units(value):\n",
    "    if value >= 1e9:\n",
    "        return f'{value / 1e9:.1f}B'\n",
    "    elif value >= 1e6:\n",
    "        return f'{value / 1e6:.1f}M'\n",
    "    elif value >= 1e3:\n",
    "        return f'{value / 1e3:.1f}K'\n",
    "    else:\n",
    "        return f'{value:.1f}'  "
   ]
  },
  {
   "cell_type": "code",
   "execution_count": 60,
   "id": "36cffb6e",
   "metadata": {},
   "outputs": [
    {
     "data": {
      "text/plain": [
       "Category\n",
       "COMMUNICATION           38.5M\n",
       "VIDEO_PLAYERS           24.7M\n",
       "SOCIAL                  23.3M\n",
       "PHOTOGRAPHY             17.8M\n",
       "PRODUCTIVITY            16.8M\n",
       "GAME                    15.6M\n",
       "TRAVEL_AND_LOCAL        14.0M\n",
       "ENTERTAINMENT           11.6M\n",
       "TOOLS                   10.7M\n",
       "NEWS_AND_MAGAZINES       9.5M\n",
       "BOOKS_AND_REFERENCE      8.8M\n",
       "SHOPPING                 7.0M\n",
       "PERSONALIZATION          5.2M\n",
       "WEATHER                  5.1M\n",
       "HEALTH_AND_FITNESS       4.2M\n",
       "MAPS_AND_NAVIGATION      4.1M\n",
       "FAMILY                   3.7M\n",
       "SPORTS                   3.6M\n",
       "ART_AND_DESIGN           2.0M\n",
       "FOOD_AND_DRINK           1.9M\n",
       "EDUCATION                1.8M\n",
       "BUSINESS                 1.7M\n",
       "LIFESTYLE                1.4M\n",
       "FINANCE                  1.4M\n",
       "HOUSE_AND_HOME           1.3M\n",
       "DATING                 854.0K\n",
       "COMICS                 817.7K\n",
       "AUTO_AND_VEHICLES      647.3K\n",
       "LIBRARIES_AND_DEMO     638.5K\n",
       "PARENTING              542.6K\n",
       "BEAUTY                 513.2K\n",
       "EVENTS                 253.5K\n",
       "MEDICAL                120.6K\n",
       "Name: Installs_int, dtype: object"
      ]
     },
     "execution_count": 60,
     "metadata": {},
     "output_type": "execute_result"
    }
   ],
   "source": [
    "categories_installs_units = categories_installs.map(alphanumeric_units)\n",
    "categories_installs_units"
   ]
  },
  {
   "cell_type": "code",
   "execution_count": 61,
   "id": "ede8359b",
   "metadata": {},
   "outputs": [
    {
     "data": {
      "image/png": "[encoded data removed]",
      "text/plain": [
       "<Figure size 1200x700 with 1 Axes>"
      ]
     },
     "metadata": {},
     "output_type": "display_data"
    }
   ],
   "source": [
    "# Data\n",
    "categories = categories_installs.index[:15]\n",
    "counts = categories_installs.values[:15]\n",
    "\n",
    "# create stylish bar\n",
    "plt.figure(figsize=(12,7))\n",
    "bars = plt.bar(categories,counts,color=\"skyblue\",alpha=0.75,edgecolor=\"black\",linewidth=1.5)\n",
    "plt.xticks(rotation=90,fontsize=12)\n",
    "plt.yticks(fontsize=12)\n",
    "plt.grid(axis='y',linestyle='--',alpha=0.7)\n",
    "plt.grid(axis='x',linestyle='')\n",
    "plt.xticks(fontsize=12) #customized tick table\n",
    "plt.yticks(range(0,60000000,10000000),[],fontsize=12) #customized tick label and customized y tick range\n",
    "plt.tick_params(bottom=0,left=0)\n",
    "\n",
    "#find the category with the highest count\n",
    "max_count_category = categories[counts.argmax()]\n",
    "\n",
    "#highlight the bar for the category with the highest count\n",
    "max_count_index = list( categories).index(max_count_category)\n",
    "bars[max_count_index].set_color('#E65BA5')\n",
    "bars[max_count_index].set_edgecolor('black')\n",
    "\n",
    "#adding data labels and percentage inside each bar\n",
    "for bar,units in zip(bars,categories_installs_units.values):\n",
    "    height = bar.get_height()\n",
    "    plt.text(bar.get_x() + bar.get_width()/2, height + 25, units , ha='center',va='bottom',fontsize=11)\n",
    "    \n",
    "#adding a background color\n",
    "ax = plt.gca()\n",
    "ax.set_facecolor('#f7f7f7')\n",
    "    \n",
    "#adding chart title inside the chart\n",
    "plt.text(0.5,0.94,'Average Distribution of Android App Installs by Category',horizontalalignment='center',fontsize=16,transform=plt.gca().transAxes,\n",
    "        color='#858585',fontweight='bold') \n",
    "\n",
    "#adding conclusion inside the chart\n",
    "plt.text(0.5,0.77,'communicaiton Apps lead the pack with a staggering 38.5Minstalls.\\n Followed closely by video Players at 24.7M and social Apps at 23.3M.\\n These Categories demonstrate significant populaity among Android users.\\n Showcasing the prominence ofcommunication and media consumption in the mobile app landscape.',\n",
    "        horizontalalignment='center',fontsize=11,transform=plt.gca().transAxes, color = \"#858585\",fontweight=\"bold\")\n",
    "\n",
    "# remove spines \n",
    "for i in [\"top\",\"right\",\"left\"]:\n",
    "    plt.gca().spines[i].set_visible(False)\n",
    "    \n",
    "plt.tight_layout() #adjust layout to prevent clipping\n",
    "plt.show()"
   ]
  },
  {
   "cell_type": "code",
   "execution_count": 62,
   "id": "ebda574a",
   "metadata": {},
   "outputs": [],
   "source": [
    "category_group = android_final.groupby(\"Category\")"
   ]
  },
  {
   "cell_type": "code",
   "execution_count": 63,
   "id": "0ef59917",
   "metadata": {},
   "outputs": [
    {
     "data": {
      "text/html": [
       "<div>\n",
       "<style scoped>\n",
       "    .dataframe tbody tr th:only-of-type {\n",
       "        vertical-align: middle;\n",
       "    }\n",
       "\n",
       "    .dataframe tbody tr th {\n",
       "        vertical-align: top;\n",
       "    }\n",
       "\n",
       "    .dataframe thead th {\n",
       "        text-align: right;\n",
       "    }\n",
       "</style>\n",
       "<table border=\"1\" class=\"dataframe\">\n",
       "  <thead>\n",
       "    <tr style=\"text-align: right;\">\n",
       "      <th></th>\n",
       "      <th>App</th>\n",
       "      <th>Category</th>\n",
       "      <th>Rating</th>\n",
       "      <th>Reviews</th>\n",
       "      <th>Size</th>\n",
       "      <th>Installs</th>\n",
       "      <th>Type</th>\n",
       "      <th>Price</th>\n",
       "      <th>Content Rating</th>\n",
       "      <th>Genres</th>\n",
       "      <th>Last Updated</th>\n",
       "      <th>Current Ver</th>\n",
       "      <th>Android Ver</th>\n",
       "      <th>Installs_int</th>\n",
       "    </tr>\n",
       "  </thead>\n",
       "  <tbody>\n",
       "    <tr>\n",
       "      <th>336</th>\n",
       "      <td>WhatsApp Messenger</td>\n",
       "      <td>COMMUNICATION</td>\n",
       "      <td>4</td>\n",
       "      <td>69119316</td>\n",
       "      <td>Varies with device</td>\n",
       "      <td>1,000,000,000+</td>\n",
       "      <td>Free</td>\n",
       "      <td>0</td>\n",
       "      <td>Everyone</td>\n",
       "      <td>Communication</td>\n",
       "      <td>August 3, 2018</td>\n",
       "      <td>Varies with device</td>\n",
       "      <td>Varies with device</td>\n",
       "      <td>1000000000</td>\n",
       "    </tr>\n",
       "    <tr>\n",
       "      <th>382</th>\n",
       "      <td>Messenger – Text and Video Chat for Free</td>\n",
       "      <td>COMMUNICATION</td>\n",
       "      <td>4</td>\n",
       "      <td>56646578</td>\n",
       "      <td>Varies with device</td>\n",
       "      <td>1,000,000,000+</td>\n",
       "      <td>Free</td>\n",
       "      <td>0</td>\n",
       "      <td>Everyone</td>\n",
       "      <td>Communication</td>\n",
       "      <td>August 1, 2018</td>\n",
       "      <td>Varies with device</td>\n",
       "      <td>Varies with device</td>\n",
       "      <td>1000000000</td>\n",
       "    </tr>\n",
       "    <tr>\n",
       "      <th>464</th>\n",
       "      <td>Hangouts</td>\n",
       "      <td>COMMUNICATION</td>\n",
       "      <td>4</td>\n",
       "      <td>3419513</td>\n",
       "      <td>Varies with device</td>\n",
       "      <td>1,000,000,000+</td>\n",
       "      <td>Free</td>\n",
       "      <td>0</td>\n",
       "      <td>Everyone</td>\n",
       "      <td>Communication</td>\n",
       "      <td>July 21, 2018</td>\n",
       "      <td>Varies with device</td>\n",
       "      <td>Varies with device</td>\n",
       "      <td>1000000000</td>\n",
       "    </tr>\n",
       "    <tr>\n",
       "      <th>411</th>\n",
       "      <td>Google Chrome: Fast &amp; Secure</td>\n",
       "      <td>COMMUNICATION</td>\n",
       "      <td>4</td>\n",
       "      <td>9643041</td>\n",
       "      <td>Varies with device</td>\n",
       "      <td>1,000,000,000+</td>\n",
       "      <td>Free</td>\n",
       "      <td>0</td>\n",
       "      <td>Everyone</td>\n",
       "      <td>Communication</td>\n",
       "      <td>August 1, 2018</td>\n",
       "      <td>Varies with device</td>\n",
       "      <td>Varies with device</td>\n",
       "      <td>1000000000</td>\n",
       "    </tr>\n",
       "    <tr>\n",
       "      <th>391</th>\n",
       "      <td>Skype - free IM &amp; video calls</td>\n",
       "      <td>COMMUNICATION</td>\n",
       "      <td>4</td>\n",
       "      <td>10484169</td>\n",
       "      <td>Varies with device</td>\n",
       "      <td>1,000,000,000+</td>\n",
       "      <td>Free</td>\n",
       "      <td>0</td>\n",
       "      <td>Everyone</td>\n",
       "      <td>Communication</td>\n",
       "      <td>August 3, 2018</td>\n",
       "      <td>Varies with device</td>\n",
       "      <td>Varies with device</td>\n",
       "      <td>1000000000</td>\n",
       "    </tr>\n",
       "  </tbody>\n",
       "</table>\n",
       "</div>"
      ],
      "text/plain": [
       "                                          App       Category Rating   Reviews  \\\n",
       "336                        WhatsApp Messenger  COMMUNICATION      4  69119316   \n",
       "382  Messenger – Text and Video Chat for Free  COMMUNICATION      4  56646578   \n",
       "464                                  Hangouts  COMMUNICATION      4   3419513   \n",
       "411              Google Chrome: Fast & Secure  COMMUNICATION      4   9643041   \n",
       "391             Skype - free IM & video calls  COMMUNICATION      4  10484169   \n",
       "\n",
       "                   Size        Installs  Type Price Content Rating  \\\n",
       "336  Varies with device  1,000,000,000+  Free     0       Everyone   \n",
       "382  Varies with device  1,000,000,000+  Free     0       Everyone   \n",
       "464  Varies with device  1,000,000,000+  Free     0       Everyone   \n",
       "411  Varies with device  1,000,000,000+  Free     0       Everyone   \n",
       "391  Varies with device  1,000,000,000+  Free     0       Everyone   \n",
       "\n",
       "            Genres    Last Updated         Current Ver         Android Ver  \\\n",
       "336  Communication  August 3, 2018  Varies with device  Varies with device   \n",
       "382  Communication  August 1, 2018  Varies with device  Varies with device   \n",
       "464  Communication   July 21, 2018  Varies with device  Varies with device   \n",
       "411  Communication  August 1, 2018  Varies with device  Varies with device   \n",
       "391  Communication  August 3, 2018  Varies with device  Varies with device   \n",
       "\n",
       "     Installs_int  \n",
       "336    1000000000  \n",
       "382    1000000000  \n",
       "464    1000000000  \n",
       "411    1000000000  \n",
       "391    1000000000  "
      ]
     },
     "execution_count": 63,
     "metadata": {},
     "output_type": "execute_result"
    }
   ],
   "source": [
    "communication = category_group.get_group('COMMUNICATION').sort_values(by=\"Installs_int\",ascending=False)\n",
    "communication.head()"
   ]
  },
  {
   "cell_type": "code",
   "execution_count": 64,
   "id": "5ffe2923",
   "metadata": {},
   "outputs": [],
   "source": [
    "#alphanumeric_units\n",
    "def alphanumeric_units(value):\n",
    "    if value >= 1e9:\n",
    "        return f'{value / 1e9:.0f}B'\n",
    "    elif value >= 1e6:\n",
    "        return f'{value / 1e6:.0f}M'\n",
    "    elif value >= 1e3:\n",
    "        return f'{value / 1e3:.0f}K'\n",
    "    else:\n",
    "        return f'{value:.1f}'  "
   ]
  },
  {
   "cell_type": "code",
   "execution_count": 65,
   "id": "35eed9e2",
   "metadata": {},
   "outputs": [
    {
     "data": {
      "text/plain": [
       "Index(['COMMUNICATION', 'VIDEO_PLAYERS', 'SOCIAL', 'PHOTOGRAPHY',\n",
       "       'PRODUCTIVITY', 'GAME', 'TRAVEL_AND_LOCAL', 'ENTERTAINMENT', 'TOOLS',\n",
       "       'NEWS_AND_MAGAZINES', 'BOOKS_AND_REFERENCE', 'SHOPPING',\n",
       "       'PERSONALIZATION', 'WEATHER', 'HEALTH_AND_FITNESS'],\n",
       "      dtype='object', name='Category')"
      ]
     },
     "execution_count": 65,
     "metadata": {},
     "output_type": "execute_result"
    }
   ],
   "source": [
    "categories_installs.index[:15]"
   ]
  },
  {
   "cell_type": "code",
   "execution_count": 66,
   "id": "515d65d2",
   "metadata": {},
   "outputs": [
    {
     "data": {
      "text/html": [
       "<div>\n",
       "<style scoped>\n",
       "    .dataframe tbody tr th:only-of-type {\n",
       "        vertical-align: middle;\n",
       "    }\n",
       "\n",
       "    .dataframe tbody tr th {\n",
       "        vertical-align: top;\n",
       "    }\n",
       "\n",
       "    .dataframe thead th {\n",
       "        text-align: right;\n",
       "    }\n",
       "</style>\n",
       "<table border=\"1\" class=\"dataframe\">\n",
       "  <thead>\n",
       "    <tr style=\"text-align: right;\">\n",
       "      <th></th>\n",
       "      <th>App</th>\n",
       "      <th>Installs_int</th>\n",
       "      <th>(App, Installs_int_unit)</th>\n",
       "    </tr>\n",
       "  </thead>\n",
       "  <tbody>\n",
       "    <tr>\n",
       "      <th>336</th>\n",
       "      <td>WhatsApp Messenger</td>\n",
       "      <td>1000000000</td>\n",
       "      <td>1B</td>\n",
       "    </tr>\n",
       "    <tr>\n",
       "      <th>382</th>\n",
       "      <td>Messenger – Text and Video Chat for Free</td>\n",
       "      <td>1000000000</td>\n",
       "      <td>1B</td>\n",
       "    </tr>\n",
       "    <tr>\n",
       "      <th>464</th>\n",
       "      <td>Hangouts</td>\n",
       "      <td>1000000000</td>\n",
       "      <td>1B</td>\n",
       "    </tr>\n",
       "    <tr>\n",
       "      <th>411</th>\n",
       "      <td>Google Chrome: Fast &amp; Secure</td>\n",
       "      <td>1000000000</td>\n",
       "      <td>1B</td>\n",
       "    </tr>\n",
       "    <tr>\n",
       "      <th>391</th>\n",
       "      <td>Skype - free IM &amp; video calls</td>\n",
       "      <td>1000000000</td>\n",
       "      <td>1B</td>\n",
       "    </tr>\n",
       "    <tr>\n",
       "      <th>451</th>\n",
       "      <td>Gmail</td>\n",
       "      <td>1000000000</td>\n",
       "      <td>1B</td>\n",
       "    </tr>\n",
       "    <tr>\n",
       "      <th>403</th>\n",
       "      <td>LINE: Free Calls &amp; Messages</td>\n",
       "      <td>500000000</td>\n",
       "      <td>500M</td>\n",
       "    </tr>\n",
       "    <tr>\n",
       "      <th>4676</th>\n",
       "      <td>Viber Messenger</td>\n",
       "      <td>500000000</td>\n",
       "      <td>500M</td>\n",
       "    </tr>\n",
       "    <tr>\n",
       "      <th>420</th>\n",
       "      <td>UC Browser - Fast Download Private &amp; Secure</td>\n",
       "      <td>500000000</td>\n",
       "      <td>500M</td>\n",
       "    </tr>\n",
       "    <tr>\n",
       "      <th>371</th>\n",
       "      <td>Google Duo - High Quality Video Calls</td>\n",
       "      <td>500000000</td>\n",
       "      <td>500M</td>\n",
       "    </tr>\n",
       "    <tr>\n",
       "      <th>383</th>\n",
       "      <td>imo free video calls and chat</td>\n",
       "      <td>500000000</td>\n",
       "      <td>500M</td>\n",
       "    </tr>\n",
       "    <tr>\n",
       "      <th>393</th>\n",
       "      <td>Who</td>\n",
       "      <td>100000000</td>\n",
       "      <td>100M</td>\n",
       "    </tr>\n",
       "    <tr>\n",
       "      <th>4633</th>\n",
       "      <td>UC Browser Mini -Tiny Fast Private &amp; Secure</td>\n",
       "      <td>100000000</td>\n",
       "      <td>100M</td>\n",
       "    </tr>\n",
       "    <tr>\n",
       "      <th>4602</th>\n",
       "      <td>Truecaller: Caller ID, SMS spam blocking &amp; Dialer</td>\n",
       "      <td>100000000</td>\n",
       "      <td>100M</td>\n",
       "    </tr>\n",
       "    <tr>\n",
       "      <th>4592</th>\n",
       "      <td>Telegram</td>\n",
       "      <td>100000000</td>\n",
       "      <td>100M</td>\n",
       "    </tr>\n",
       "  </tbody>\n",
       "</table>\n",
       "</div>"
      ],
      "text/plain": [
       "                                                    App  Installs_int  \\\n",
       "336                                  WhatsApp Messenger    1000000000   \n",
       "382            Messenger – Text and Video Chat for Free    1000000000   \n",
       "464                                            Hangouts    1000000000   \n",
       "411                        Google Chrome: Fast & Secure    1000000000   \n",
       "391                       Skype - free IM & video calls    1000000000   \n",
       "451                                               Gmail    1000000000   \n",
       "403                         LINE: Free Calls & Messages     500000000   \n",
       "4676                                    Viber Messenger     500000000   \n",
       "420         UC Browser - Fast Download Private & Secure     500000000   \n",
       "371               Google Duo - High Quality Video Calls     500000000   \n",
       "383                       imo free video calls and chat     500000000   \n",
       "393                                                 Who     100000000   \n",
       "4633        UC Browser Mini -Tiny Fast Private & Secure     100000000   \n",
       "4602  Truecaller: Caller ID, SMS spam blocking & Dialer     100000000   \n",
       "4592                                           Telegram     100000000   \n",
       "\n",
       "     (App, Installs_int_unit)  \n",
       "336                        1B  \n",
       "382                        1B  \n",
       "464                        1B  \n",
       "411                        1B  \n",
       "391                        1B  \n",
       "451                        1B  \n",
       "403                      500M  \n",
       "4676                     500M  \n",
       "420                      500M  \n",
       "371                      500M  \n",
       "383                      500M  \n",
       "393                      100M  \n",
       "4633                     100M  \n",
       "4602                     100M  \n",
       "4592                     100M  "
      ]
     },
     "execution_count": 66,
     "metadata": {},
     "output_type": "execute_result"
    }
   ],
   "source": [
    "df=communication[['App','Installs_int']].head(15)\n",
    "df['App','Installs_int_unit']= df['Installs_int'].map(alphanumeric_units)\n",
    "df"
   ]
  },
  {
   "cell_type": "code",
   "execution_count": 67,
   "id": "6c9952c9",
   "metadata": {},
   "outputs": [
    {
     "data": {
      "text/html": [
       "<div>\n",
       "<style scoped>\n",
       "    .dataframe tbody tr th:only-of-type {\n",
       "        vertical-align: middle;\n",
       "    }\n",
       "\n",
       "    .dataframe tbody tr th {\n",
       "        vertical-align: top;\n",
       "    }\n",
       "\n",
       "    .dataframe thead th {\n",
       "        text-align: right;\n",
       "    }\n",
       "</style>\n",
       "<table border=\"1\" class=\"dataframe\">\n",
       "  <thead>\n",
       "    <tr style=\"text-align: right;\">\n",
       "      <th></th>\n",
       "      <th>App</th>\n",
       "      <th>Installs_int</th>\n",
       "      <th>(App, Installs_int_unit)</th>\n",
       "    </tr>\n",
       "  </thead>\n",
       "  <tbody>\n",
       "    <tr>\n",
       "      <th>3665</th>\n",
       "      <td>YouTube</td>\n",
       "      <td>1000000000</td>\n",
       "      <td>1B</td>\n",
       "    </tr>\n",
       "    <tr>\n",
       "      <th>3687</th>\n",
       "      <td>Google Play Movies &amp; TV</td>\n",
       "      <td>1000000000</td>\n",
       "      <td>1B</td>\n",
       "    </tr>\n",
       "    <tr>\n",
       "      <th>3711</th>\n",
       "      <td>MX Player</td>\n",
       "      <td>500000000</td>\n",
       "      <td>500M</td>\n",
       "    </tr>\n",
       "    <tr>\n",
       "      <th>3675</th>\n",
       "      <td>VLC for Android</td>\n",
       "      <td>100000000</td>\n",
       "      <td>100M</td>\n",
       "    </tr>\n",
       "    <tr>\n",
       "      <th>4688</th>\n",
       "      <td>VivaVideo - Video Editor &amp; Photo Movie</td>\n",
       "      <td>100000000</td>\n",
       "      <td>100M</td>\n",
       "    </tr>\n",
       "    <tr>\n",
       "      <th>4032</th>\n",
       "      <td>Dubsmash</td>\n",
       "      <td>100000000</td>\n",
       "      <td>100M</td>\n",
       "    </tr>\n",
       "    <tr>\n",
       "      <th>10647</th>\n",
       "      <td>Motorola FM Radio</td>\n",
       "      <td>100000000</td>\n",
       "      <td>100M</td>\n",
       "    </tr>\n",
       "    <tr>\n",
       "      <th>4696</th>\n",
       "      <td>VideoShow-Video Editor, Video Maker, Beauty Ca...</td>\n",
       "      <td>100000000</td>\n",
       "      <td>100M</td>\n",
       "    </tr>\n",
       "    <tr>\n",
       "      <th>3672</th>\n",
       "      <td>Motorola Gallery</td>\n",
       "      <td>100000000</td>\n",
       "      <td>100M</td>\n",
       "    </tr>\n",
       "    <tr>\n",
       "      <th>3691</th>\n",
       "      <td>Samsung Video Library</td>\n",
       "      <td>50000000</td>\n",
       "      <td>50M</td>\n",
       "    </tr>\n",
       "    <tr>\n",
       "      <th>4038</th>\n",
       "      <td>DU Recorder – Screen Recorder, Video Editor, Live</td>\n",
       "      <td>50000000</td>\n",
       "      <td>50M</td>\n",
       "    </tr>\n",
       "    <tr>\n",
       "      <th>3693</th>\n",
       "      <td>LIKE – Magic Video Maker &amp; Community</td>\n",
       "      <td>50000000</td>\n",
       "      <td>50M</td>\n",
       "    </tr>\n",
       "    <tr>\n",
       "      <th>3686</th>\n",
       "      <td>Vigo Video</td>\n",
       "      <td>50000000</td>\n",
       "      <td>50M</td>\n",
       "    </tr>\n",
       "    <tr>\n",
       "      <th>4049</th>\n",
       "      <td>KineMaster – Pro Video Editor</td>\n",
       "      <td>50000000</td>\n",
       "      <td>50M</td>\n",
       "    </tr>\n",
       "    <tr>\n",
       "      <th>5612</th>\n",
       "      <td>Ringdroid</td>\n",
       "      <td>50000000</td>\n",
       "      <td>50M</td>\n",
       "    </tr>\n",
       "  </tbody>\n",
       "</table>\n",
       "</div>"
      ],
      "text/plain": [
       "                                                     App  Installs_int  \\\n",
       "3665                                             YouTube    1000000000   \n",
       "3687                             Google Play Movies & TV    1000000000   \n",
       "3711                                           MX Player     500000000   \n",
       "3675                                     VLC for Android     100000000   \n",
       "4688              VivaVideo - Video Editor & Photo Movie     100000000   \n",
       "4032                                            Dubsmash     100000000   \n",
       "10647                                  Motorola FM Radio     100000000   \n",
       "4696   VideoShow-Video Editor, Video Maker, Beauty Ca...     100000000   \n",
       "3672                                    Motorola Gallery     100000000   \n",
       "3691                               Samsung Video Library      50000000   \n",
       "4038   DU Recorder – Screen Recorder, Video Editor, Live      50000000   \n",
       "3693                LIKE – Magic Video Maker & Community      50000000   \n",
       "3686                                          Vigo Video      50000000   \n",
       "4049                       KineMaster – Pro Video Editor      50000000   \n",
       "5612                                           Ringdroid      50000000   \n",
       "\n",
       "      (App, Installs_int_unit)  \n",
       "3665                        1B  \n",
       "3687                        1B  \n",
       "3711                      500M  \n",
       "3675                      100M  \n",
       "4688                      100M  \n",
       "4032                      100M  \n",
       "10647                     100M  \n",
       "4696                      100M  \n",
       "3672                      100M  \n",
       "3691                       50M  \n",
       "4038                       50M  \n",
       "3693                       50M  \n",
       "3686                       50M  \n",
       "4049                       50M  \n",
       "5612                       50M  "
      ]
     },
     "execution_count": 67,
     "metadata": {},
     "output_type": "execute_result"
    }
   ],
   "source": [
    "df = category_group.get_group('VIDEO_PLAYERS').sort_values(by=\"Installs_int\",ascending=False)\n",
    "df = df[['App','Installs_int']].head(15)\n",
    "df['App','Installs_int_unit']= df['Installs_int'].map(alphanumeric_units)\n",
    "df"
   ]
  },
  {
   "cell_type": "code",
   "execution_count": 68,
   "id": "bf416986",
   "metadata": {},
   "outputs": [
    {
     "data": {
      "text/html": [
       "<div>\n",
       "<style scoped>\n",
       "    .dataframe tbody tr th:only-of-type {\n",
       "        vertical-align: middle;\n",
       "    }\n",
       "\n",
       "    .dataframe tbody tr th {\n",
       "        vertical-align: top;\n",
       "    }\n",
       "\n",
       "    .dataframe thead th {\n",
       "        text-align: right;\n",
       "    }\n",
       "</style>\n",
       "<table border=\"1\" class=\"dataframe\">\n",
       "  <thead>\n",
       "    <tr style=\"text-align: right;\">\n",
       "      <th></th>\n",
       "      <th>App</th>\n",
       "      <th>Installs_int</th>\n",
       "      <th>(App, Installs_int_unit)</th>\n",
       "    </tr>\n",
       "  </thead>\n",
       "  <tbody>\n",
       "    <tr>\n",
       "      <th>2544</th>\n",
       "      <td>Facebook</td>\n",
       "      <td>1000000000</td>\n",
       "      <td>1B</td>\n",
       "    </tr>\n",
       "    <tr>\n",
       "      <th>2554</th>\n",
       "      <td>Google+</td>\n",
       "      <td>1000000000</td>\n",
       "      <td>1B</td>\n",
       "    </tr>\n",
       "    <tr>\n",
       "      <th>2604</th>\n",
       "      <td>Instagram</td>\n",
       "      <td>1000000000</td>\n",
       "      <td>1B</td>\n",
       "    </tr>\n",
       "    <tr>\n",
       "      <th>2610</th>\n",
       "      <td>Snapchat</td>\n",
       "      <td>500000000</td>\n",
       "      <td>500M</td>\n",
       "    </tr>\n",
       "    <tr>\n",
       "      <th>2546</th>\n",
       "      <td>Facebook Lite</td>\n",
       "      <td>500000000</td>\n",
       "      <td>500M</td>\n",
       "    </tr>\n",
       "    <tr>\n",
       "      <th>3945</th>\n",
       "      <td>Tik Tok - including musical.ly</td>\n",
       "      <td>100000000</td>\n",
       "      <td>100M</td>\n",
       "    </tr>\n",
       "    <tr>\n",
       "      <th>2592</th>\n",
       "      <td>Tango - Live Video Broadcast</td>\n",
       "      <td>100000000</td>\n",
       "      <td>100M</td>\n",
       "    </tr>\n",
       "    <tr>\n",
       "      <th>6373</th>\n",
       "      <td>VK</td>\n",
       "      <td>100000000</td>\n",
       "      <td>100M</td>\n",
       "    </tr>\n",
       "    <tr>\n",
       "      <th>2552</th>\n",
       "      <td>Pinterest</td>\n",
       "      <td>100000000</td>\n",
       "      <td>100M</td>\n",
       "    </tr>\n",
       "    <tr>\n",
       "      <th>3951</th>\n",
       "      <td>BIGO LIVE - Live Stream</td>\n",
       "      <td>100000000</td>\n",
       "      <td>100M</td>\n",
       "    </tr>\n",
       "    <tr>\n",
       "      <th>2621</th>\n",
       "      <td>LinkedIn</td>\n",
       "      <td>100000000</td>\n",
       "      <td>100M</td>\n",
       "    </tr>\n",
       "    <tr>\n",
       "      <th>2548</th>\n",
       "      <td>Tumblr</td>\n",
       "      <td>100000000</td>\n",
       "      <td>100M</td>\n",
       "    </tr>\n",
       "    <tr>\n",
       "      <th>2588</th>\n",
       "      <td>Badoo - Free Chat &amp; Dating App</td>\n",
       "      <td>100000000</td>\n",
       "      <td>100M</td>\n",
       "    </tr>\n",
       "    <tr>\n",
       "      <th>2636</th>\n",
       "      <td>Zello PTT Walkie Talkie</td>\n",
       "      <td>50000000</td>\n",
       "      <td>50M</td>\n",
       "    </tr>\n",
       "    <tr>\n",
       "      <th>2595</th>\n",
       "      <td>ooVoo Video Calls, Messaging &amp; Stories</td>\n",
       "      <td>50000000</td>\n",
       "      <td>50M</td>\n",
       "    </tr>\n",
       "  </tbody>\n",
       "</table>\n",
       "</div>"
      ],
      "text/plain": [
       "                                         App  Installs_int  \\\n",
       "2544                                Facebook    1000000000   \n",
       "2554                                 Google+    1000000000   \n",
       "2604                               Instagram    1000000000   \n",
       "2610                                Snapchat     500000000   \n",
       "2546                           Facebook Lite     500000000   \n",
       "3945          Tik Tok - including musical.ly     100000000   \n",
       "2592            Tango - Live Video Broadcast     100000000   \n",
       "6373                                      VK     100000000   \n",
       "2552                               Pinterest     100000000   \n",
       "3951                 BIGO LIVE - Live Stream     100000000   \n",
       "2621                                LinkedIn     100000000   \n",
       "2548                                  Tumblr     100000000   \n",
       "2588          Badoo - Free Chat & Dating App     100000000   \n",
       "2636                 Zello PTT Walkie Talkie      50000000   \n",
       "2595  ooVoo Video Calls, Messaging & Stories      50000000   \n",
       "\n",
       "     (App, Installs_int_unit)  \n",
       "2544                       1B  \n",
       "2554                       1B  \n",
       "2604                       1B  \n",
       "2610                     500M  \n",
       "2546                     500M  \n",
       "3945                     100M  \n",
       "2592                     100M  \n",
       "6373                     100M  \n",
       "2552                     100M  \n",
       "3951                     100M  \n",
       "2621                     100M  \n",
       "2548                     100M  \n",
       "2588                     100M  \n",
       "2636                      50M  \n",
       "2595                      50M  "
      ]
     },
     "execution_count": 68,
     "metadata": {},
     "output_type": "execute_result"
    }
   ],
   "source": [
    "df = category_group.get_group('SOCIAL').sort_values(by=\"Installs_int\",ascending=False)\n",
    "df = df[['App','Installs_int']].head(15)\n",
    "df['App','Installs_int_unit']= df['Installs_int'].map(alphanumeric_units)\n",
    "df"
   ]
  },
  {
   "cell_type": "code",
   "execution_count": 69,
   "id": "7365fde5",
   "metadata": {},
   "outputs": [
    {
     "data": {
      "text/html": [
       "<div>\n",
       "<style scoped>\n",
       "    .dataframe tbody tr th:only-of-type {\n",
       "        vertical-align: middle;\n",
       "    }\n",
       "\n",
       "    .dataframe tbody tr th {\n",
       "        vertical-align: top;\n",
       "    }\n",
       "\n",
       "    .dataframe thead th {\n",
       "        text-align: right;\n",
       "    }\n",
       "</style>\n",
       "<table border=\"1\" class=\"dataframe\">\n",
       "  <thead>\n",
       "    <tr style=\"text-align: right;\">\n",
       "      <th></th>\n",
       "      <th>App</th>\n",
       "      <th>Installs_int</th>\n",
       "      <th>(App, Installs_int_unit)</th>\n",
       "    </tr>\n",
       "  </thead>\n",
       "  <tbody>\n",
       "    <tr>\n",
       "      <th>2884</th>\n",
       "      <td>Google Photos</td>\n",
       "      <td>1000000000</td>\n",
       "      <td>1B</td>\n",
       "    </tr>\n",
       "    <tr>\n",
       "      <th>4574</th>\n",
       "      <td>S Photo Editor - Collage Maker , Photo Collage</td>\n",
       "      <td>100000000</td>\n",
       "      <td>100M</td>\n",
       "    </tr>\n",
       "    <tr>\n",
       "      <th>2949</th>\n",
       "      <td>Camera360: Selfie Photo Editor with Funny Sticker</td>\n",
       "      <td>100000000</td>\n",
       "      <td>100M</td>\n",
       "    </tr>\n",
       "    <tr>\n",
       "      <th>2908</th>\n",
       "      <td>Retrica</td>\n",
       "      <td>100000000</td>\n",
       "      <td>100M</td>\n",
       "    </tr>\n",
       "    <tr>\n",
       "      <th>8307</th>\n",
       "      <td>LINE Camera - Photo editor</td>\n",
       "      <td>100000000</td>\n",
       "      <td>100M</td>\n",
       "    </tr>\n",
       "    <tr>\n",
       "      <th>2921</th>\n",
       "      <td>Photo Editor Pro</td>\n",
       "      <td>100000000</td>\n",
       "      <td>100M</td>\n",
       "    </tr>\n",
       "    <tr>\n",
       "      <th>2847</th>\n",
       "      <td>Sweet Selfie - selfie camera, beauty cam, phot...</td>\n",
       "      <td>100000000</td>\n",
       "      <td>100M</td>\n",
       "    </tr>\n",
       "    <tr>\n",
       "      <th>2937</th>\n",
       "      <td>BeautyPlus - Easy Photo Editor &amp; Selfie Camera</td>\n",
       "      <td>100000000</td>\n",
       "      <td>100M</td>\n",
       "    </tr>\n",
       "    <tr>\n",
       "      <th>2938</th>\n",
       "      <td>PicsArt Photo Studio: Collage Maker &amp; Pic Editor</td>\n",
       "      <td>100000000</td>\n",
       "      <td>100M</td>\n",
       "    </tr>\n",
       "    <tr>\n",
       "      <th>5057</th>\n",
       "      <td>AR effect</td>\n",
       "      <td>100000000</td>\n",
       "      <td>100M</td>\n",
       "    </tr>\n",
       "    <tr>\n",
       "      <th>2833</th>\n",
       "      <td>YouCam Makeup - Magic Selfie Makeovers</td>\n",
       "      <td>100000000</td>\n",
       "      <td>100M</td>\n",
       "    </tr>\n",
       "    <tr>\n",
       "      <th>2942</th>\n",
       "      <td>Z Camera - Photo Editor, Beauty Selfie, Collage</td>\n",
       "      <td>100000000</td>\n",
       "      <td>100M</td>\n",
       "    </tr>\n",
       "    <tr>\n",
       "      <th>2943</th>\n",
       "      <td>PhotoGrid: Video &amp; Pic Collage Maker, Photo Ed...</td>\n",
       "      <td>100000000</td>\n",
       "      <td>100M</td>\n",
       "    </tr>\n",
       "    <tr>\n",
       "      <th>2944</th>\n",
       "      <td>Candy Camera - selfie, beauty camera, photo ed...</td>\n",
       "      <td>100000000</td>\n",
       "      <td>100M</td>\n",
       "    </tr>\n",
       "    <tr>\n",
       "      <th>2945</th>\n",
       "      <td>YouCam Perfect - Selfie Photo Editor</td>\n",
       "      <td>100000000</td>\n",
       "      <td>100M</td>\n",
       "    </tr>\n",
       "  </tbody>\n",
       "</table>\n",
       "</div>"
      ],
      "text/plain": [
       "                                                    App  Installs_int  \\\n",
       "2884                                      Google Photos    1000000000   \n",
       "4574     S Photo Editor - Collage Maker , Photo Collage     100000000   \n",
       "2949  Camera360: Selfie Photo Editor with Funny Sticker     100000000   \n",
       "2908                                            Retrica     100000000   \n",
       "8307                         LINE Camera - Photo editor     100000000   \n",
       "2921                                   Photo Editor Pro     100000000   \n",
       "2847  Sweet Selfie - selfie camera, beauty cam, phot...     100000000   \n",
       "2937     BeautyPlus - Easy Photo Editor & Selfie Camera     100000000   \n",
       "2938   PicsArt Photo Studio: Collage Maker & Pic Editor     100000000   \n",
       "5057                                          AR effect     100000000   \n",
       "2833             YouCam Makeup - Magic Selfie Makeovers     100000000   \n",
       "2942    Z Camera - Photo Editor, Beauty Selfie, Collage     100000000   \n",
       "2943  PhotoGrid: Video & Pic Collage Maker, Photo Ed...     100000000   \n",
       "2944  Candy Camera - selfie, beauty camera, photo ed...     100000000   \n",
       "2945               YouCam Perfect - Selfie Photo Editor     100000000   \n",
       "\n",
       "     (App, Installs_int_unit)  \n",
       "2884                       1B  \n",
       "4574                     100M  \n",
       "2949                     100M  \n",
       "2908                     100M  \n",
       "8307                     100M  \n",
       "2921                     100M  \n",
       "2847                     100M  \n",
       "2937                     100M  \n",
       "2938                     100M  \n",
       "5057                     100M  \n",
       "2833                     100M  \n",
       "2942                     100M  \n",
       "2943                     100M  \n",
       "2944                     100M  \n",
       "2945                     100M  "
      ]
     },
     "execution_count": 69,
     "metadata": {},
     "output_type": "execute_result"
    }
   ],
   "source": [
    "df = category_group.get_group('PHOTOGRAPHY').sort_values(by=\"Installs_int\",ascending=False)\n",
    "df = df[['App','Installs_int']].head(15)\n",
    "df['App','Installs_int_unit']= df['Installs_int'].map(alphanumeric_units)\n",
    "df"
   ]
  },
  {
   "cell_type": "code",
   "execution_count": 70,
   "id": "87caebdf",
   "metadata": {},
   "outputs": [
    {
     "data": {
      "text/html": [
       "<div>\n",
       "<style scoped>\n",
       "    .dataframe tbody tr th:only-of-type {\n",
       "        vertical-align: middle;\n",
       "    }\n",
       "\n",
       "    .dataframe tbody tr th {\n",
       "        vertical-align: top;\n",
       "    }\n",
       "\n",
       "    .dataframe thead th {\n",
       "        text-align: right;\n",
       "    }\n",
       "</style>\n",
       "<table border=\"1\" class=\"dataframe\">\n",
       "  <thead>\n",
       "    <tr style=\"text-align: right;\">\n",
       "      <th></th>\n",
       "      <th>App</th>\n",
       "      <th>Installs_int</th>\n",
       "      <th>(App, Installs_int_unit)</th>\n",
       "    </tr>\n",
       "  </thead>\n",
       "  <tbody>\n",
       "    <tr>\n",
       "      <th>3234</th>\n",
       "      <td>Google</td>\n",
       "      <td>1000000000</td>\n",
       "      <td>1B</td>\n",
       "    </tr>\n",
       "    <tr>\n",
       "      <th>3265</th>\n",
       "      <td>Gboard - the Google Keyboard</td>\n",
       "      <td>500000000</td>\n",
       "      <td>500M</td>\n",
       "    </tr>\n",
       "    <tr>\n",
       "      <th>3255</th>\n",
       "      <td>SHAREit - Transfer &amp; Share</td>\n",
       "      <td>500000000</td>\n",
       "      <td>500M</td>\n",
       "    </tr>\n",
       "    <tr>\n",
       "      <th>4005</th>\n",
       "      <td>Clean Master- Space Cleaner &amp; Antivirus</td>\n",
       "      <td>500000000</td>\n",
       "      <td>500M</td>\n",
       "    </tr>\n",
       "    <tr>\n",
       "      <th>3235</th>\n",
       "      <td>Google Translate</td>\n",
       "      <td>500000000</td>\n",
       "      <td>500M</td>\n",
       "    </tr>\n",
       "    <tr>\n",
       "      <th>7536</th>\n",
       "      <td>Security Master - Antivirus, VPN, AppLock, Boo...</td>\n",
       "      <td>500000000</td>\n",
       "      <td>500M</td>\n",
       "    </tr>\n",
       "    <tr>\n",
       "      <th>8452</th>\n",
       "      <td>Automatic Call Recorder</td>\n",
       "      <td>100000000</td>\n",
       "      <td>100M</td>\n",
       "    </tr>\n",
       "    <tr>\n",
       "      <th>3266</th>\n",
       "      <td>Google Korean Input</td>\n",
       "      <td>100000000</td>\n",
       "      <td>100M</td>\n",
       "    </tr>\n",
       "    <tr>\n",
       "      <th>7550</th>\n",
       "      <td>Battery Doctor-Battery Life Saver &amp; Battery Co...</td>\n",
       "      <td>100000000</td>\n",
       "      <td>100M</td>\n",
       "    </tr>\n",
       "    <tr>\n",
       "      <th>3272</th>\n",
       "      <td>Share Music &amp; Transfer Files - Xender</td>\n",
       "      <td>100000000</td>\n",
       "      <td>100M</td>\n",
       "    </tr>\n",
       "    <tr>\n",
       "      <th>4578</th>\n",
       "      <td>Samsung Smart Switch Mobile</td>\n",
       "      <td>100000000</td>\n",
       "      <td>100M</td>\n",
       "    </tr>\n",
       "    <tr>\n",
       "      <th>4568</th>\n",
       "      <td>360 Security - Free Antivirus, Booster, Cleaner</td>\n",
       "      <td>100000000</td>\n",
       "      <td>100M</td>\n",
       "    </tr>\n",
       "    <tr>\n",
       "      <th>3289</th>\n",
       "      <td>Tiny Flashlight + LED</td>\n",
       "      <td>100000000</td>\n",
       "      <td>100M</td>\n",
       "    </tr>\n",
       "    <tr>\n",
       "      <th>4151</th>\n",
       "      <td>Google Now Launcher</td>\n",
       "      <td>100000000</td>\n",
       "      <td>100M</td>\n",
       "    </tr>\n",
       "    <tr>\n",
       "      <th>8758</th>\n",
       "      <td>Anti-virus Dr.Web Light</td>\n",
       "      <td>100000000</td>\n",
       "      <td>100M</td>\n",
       "    </tr>\n",
       "  </tbody>\n",
       "</table>\n",
       "</div>"
      ],
      "text/plain": [
       "                                                    App  Installs_int  \\\n",
       "3234                                             Google    1000000000   \n",
       "3265                       Gboard - the Google Keyboard     500000000   \n",
       "3255                         SHAREit - Transfer & Share     500000000   \n",
       "4005            Clean Master- Space Cleaner & Antivirus     500000000   \n",
       "3235                                   Google Translate     500000000   \n",
       "7536  Security Master - Antivirus, VPN, AppLock, Boo...     500000000   \n",
       "8452                            Automatic Call Recorder     100000000   \n",
       "3266                                Google Korean Input     100000000   \n",
       "7550  Battery Doctor-Battery Life Saver & Battery Co...     100000000   \n",
       "3272              Share Music & Transfer Files - Xender     100000000   \n",
       "4578                        Samsung Smart Switch Mobile     100000000   \n",
       "4568    360 Security - Free Antivirus, Booster, Cleaner     100000000   \n",
       "3289                              Tiny Flashlight + LED     100000000   \n",
       "4151                                Google Now Launcher     100000000   \n",
       "8758                            Anti-virus Dr.Web Light     100000000   \n",
       "\n",
       "     (App, Installs_int_unit)  \n",
       "3234                       1B  \n",
       "3265                     500M  \n",
       "3255                     500M  \n",
       "4005                     500M  \n",
       "3235                     500M  \n",
       "7536                     500M  \n",
       "8452                     100M  \n",
       "3266                     100M  \n",
       "7550                     100M  \n",
       "3272                     100M  \n",
       "4578                     100M  \n",
       "4568                     100M  \n",
       "3289                     100M  \n",
       "4151                     100M  \n",
       "8758                     100M  "
      ]
     },
     "execution_count": 70,
     "metadata": {},
     "output_type": "execute_result"
    }
   ],
   "source": [
    "df = category_group.get_group('TOOLS').sort_values(by=\"Installs_int\",ascending=False)\n",
    "df = df[['App','Installs_int']].head(15)\n",
    "df['App','Installs_int_unit']= df['Installs_int'].map(alphanumeric_units)\n",
    "df"
   ]
  },
  {
   "cell_type": "markdown",
   "id": "d0eb0c1d",
   "metadata": {},
   "source": [
    "  # Analysis of Photography Category and Potential for Photo Generation in 2024\n",
    "# Conclusion \n",
    "The analysis of the photography sector reveals a notable trend towards the popularity of photo editing and collage-making applications. These apps have garnered significant attention, with several platforms amassing over 100 million installations. This trend indicates a robust demand for photo-related functionalities among users. \n",
    "\n",
    "Given this observation, there appears to be significant potential for the development of a photo generation application in 2024. Such an app, offering prompt and free generation of pictures and photos, could capitalize on the existing user interest in photography apps, stand out in the competitive market, and attract a large user base. \n",
    "\n",
    "Considering the success of existing photography apps and the evolving preferences of users, investing in the development of a photography app seems promising for tapping into this lucrative market segment in 2024.\n",
    "\n",
    "\n",
    "\n",
    "\n"
   ]
  },
  {
   "cell_type": "code",
   "execution_count": null,
   "id": "aef9f66c",
   "metadata": {},
   "outputs": [],
   "source": []
  }
 ],
 "metadata": {
  "kernelspec": {
   "display_name": "Python 3 (ipykernel)",
   "language": "python",
   "name": "python3"
  },
  "language_info": {
   "codemirror_mode": {
    "name": "ipython",
    "version": 3
   },
   "file_extension": ".py",
   "mimetype": "text/x-python",
   "name": "python",
   "nbconvert_exporter": "python",
   "pygments_lexer": "ipython3",
   "version": "3.10.9"
  }
 },
 "nbformat": 4,
 "nbformat_minor": 5
}
